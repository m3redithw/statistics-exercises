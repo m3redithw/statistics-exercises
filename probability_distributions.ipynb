{
 "cells": [
  {
   "cell_type": "markdown",
   "id": "6cb5542c",
   "metadata": {},
   "source": [
    "## 1. A bank found that the average number of cars waiting during the noon hour at a drive-up window follows a Poisson distribution with a mean of 2 cars. Make a chart of this distribution and answer these questions concerning the probability of cars waiting at the drive-up window.\n",
    "#### What is the probability that no cars drive up in the noon hour?"
   ]
  },
  {
   "cell_type": "code",
   "execution_count": 2,
   "id": "d28146f4",
   "metadata": {},
   "outputs": [],
   "source": [
    "import matplotlib.pyplot as plt\n",
    "import numpy as np\n",
    "import pandas as pd\n",
    "from scipy import stats"
   ]
  },
  {
   "cell_type": "code",
   "execution_count": 6,
   "id": "d158c5de",
   "metadata": {},
   "outputs": [
    {
     "data": {
      "text/plain": [
       "0.36787944117144233"
      ]
     },
     "execution_count": 6,
     "metadata": {},
     "output_type": "execute_result"
    }
   ],
   "source": [
    "λ = 1\n",
    "bank = stats.poisson(λ)\n",
    "bank.pmf(0)"
   ]
  },
  {
   "cell_type": "markdown",
   "id": "ffc19362",
   "metadata": {},
   "source": [
    "#### What is the probability that 3 or more cars come through the drive through?"
   ]
  },
  {
   "cell_type": "code",
   "execution_count": 10,
   "id": "67f799e9",
   "metadata": {},
   "outputs": [
    {
     "data": {
      "text/plain": [
       "0.08030139707139418"
      ]
     },
     "execution_count": 10,
     "metadata": {},
     "output_type": "execute_result"
    }
   ],
   "source": [
    "bank.sf(2)"
   ]
  },
  {
   "cell_type": "markdown",
   "id": "8af92254",
   "metadata": {},
   "source": [
    "#### How likely is it that the drive through gets at least 1 car?"
   ]
  },
  {
   "cell_type": "code",
   "execution_count": 9,
   "id": "e47c7dab",
   "metadata": {},
   "outputs": [
    {
     "data": {
      "text/plain": [
       "0.6321205588285577"
      ]
     },
     "execution_count": 9,
     "metadata": {},
     "output_type": "execute_result"
    }
   ],
   "source": [
    "bank.sf(0)"
   ]
  },
  {
   "cell_type": "markdown",
   "id": "ec382e95",
   "metadata": {},
   "source": [
    "## 2. Grades of State University graduates are normally distributed with a mean of 3.0 and a standard deviation of .3. Calculate the following:"
   ]
  },
  {
   "cell_type": "markdown",
   "id": "38878715",
   "metadata": {},
   "source": [
    "#### What grade point average is required to be in the top 5% of the graduating class?"
   ]
  },
  {
   "cell_type": "code",
   "execution_count": 11,
   "id": "b85b8857",
   "metadata": {},
   "outputs": [],
   "source": [
    "mean = 3\n",
    "std_dev = 0.3\n",
    "grades = stats.norm(mean, std_dev)"
   ]
  },
  {
   "cell_type": "code",
   "execution_count": 13,
   "id": "f43d35ad",
   "metadata": {},
   "outputs": [
    {
     "data": {
      "text/plain": [
       "3.4934560880854417"
      ]
     },
     "execution_count": 13,
     "metadata": {},
     "output_type": "execute_result"
    }
   ],
   "source": [
    "grades.isf(0.05)"
   ]
  },
  {
   "cell_type": "markdown",
   "id": "75610645",
   "metadata": {},
   "source": [
    "#### What GPA constitutes the bottom 15% of the class?"
   ]
  },
  {
   "cell_type": "code",
   "execution_count": 17,
   "id": "1bb3ca1b",
   "metadata": {
    "scrolled": true
   },
   "outputs": [
    {
     "data": {
      "text/plain": [
       "2.69"
      ]
     },
     "execution_count": 17,
     "metadata": {},
     "output_type": "execute_result"
    }
   ],
   "source": [
    "grades.isf(0.85)"
   ]
  },
  {
   "cell_type": "code",
   "execution_count": 18,
   "id": "9eeafa3d",
   "metadata": {},
   "outputs": [
    {
     "data": {
      "text/plain": [
       "1.0494515075362604e-21"
      ]
     },
     "execution_count": 18,
     "metadata": {},
     "output_type": "execute_result"
    }
   ],
   "source": [
    "# grades.cdf(0.15) --- why?"
   ]
  },
  {
   "cell_type": "markdown",
   "id": "a73f5e65",
   "metadata": {},
   "source": [
    "#### An eccentric alumnus left scholarship money for students in the third decile from the bottom of their class. Determine the range of the third decile. Would a student with a 2.8 grade point average qualify for this scholarship?"
   ]
  },
  {
   "cell_type": "code",
   "execution_count": 19,
   "id": "e61c8415",
   "metadata": {},
   "outputs": [
    {
     "data": {
      "text/plain": [
       "2.7976530749411754"
      ]
     },
     "execution_count": 19,
     "metadata": {},
     "output_type": "execute_result"
    }
   ],
   "source": [
    "grades.isf(0.75)"
   ]
  },
  {
   "cell_type": "code",
   "execution_count": 20,
   "id": "a8cef7e3",
   "metadata": {
    "scrolled": true
   },
   "outputs": [
    {
     "data": {
      "text/plain": [
       "3.0"
      ]
     },
     "execution_count": 20,
     "metadata": {},
     "output_type": "execute_result"
    }
   ],
   "source": [
    "grades.isf(0.5)\n",
    "\n",
    "# range of 3rd decile: 2.8-3.0"
   ]
  },
  {
   "cell_type": "code",
   "execution_count": null,
   "id": "0989aec6",
   "metadata": {},
   "outputs": [],
   "source": [
    "# yes, 2.8 qualify for this scholarship"
   ]
  },
  {
   "cell_type": "markdown",
   "id": "9b12193d",
   "metadata": {},
   "source": [
    "#### If I have a GPA of 3.5, what percentile am I in?"
   ]
  },
  {
   "cell_type": "code",
   "execution_count": 22,
   "id": "518027b3",
   "metadata": {},
   "outputs": [
    {
     "data": {
      "text/plain": [
       "0.9522096477271853"
      ]
     },
     "execution_count": 22,
     "metadata": {},
     "output_type": "execute_result"
    }
   ],
   "source": [
    "grades.cdf(3.5)"
   ]
  },
  {
   "cell_type": "markdown",
   "id": "0913dc11",
   "metadata": {},
   "source": [
    "## 3. A marketing website has an average click-through rate of 2%. One day they observe 4326 visitors and 97 click-throughs. How likely is it that this many people or more click through?"
   ]
  },
  {
   "cell_type": "code",
   "execution_count": 25,
   "id": "5aee4200",
   "metadata": {},
   "outputs": [],
   "source": [
    "# binomal\n",
    "\n",
    "n_visit = 4326\n",
    "p =  0.02\n",
    "\n",
    "click = stats.binom(n_visit, p)\n"
   ]
  },
  {
   "cell_type": "code",
   "execution_count": 65,
   "id": "4b97da5e",
   "metadata": {},
   "outputs": [
    {
     "data": {
      "text/plain": [
       "0.13975823631416445"
      ]
     },
     "execution_count": 65,
     "metadata": {},
     "output_type": "execute_result"
    }
   ],
   "source": [
    "click.sf(96)\n",
    "\n",
    "# 14%"
   ]
  },
  {
   "cell_type": "markdown",
   "id": "8b76a6f9",
   "metadata": {},
   "source": [
    "## 4. You are working on some statistics homework consisting of 100 questions where all of the answers are a probability rounded to the hundreths place. Looking to save time, you put down random probabilities as the answer to each question.\n",
    "#### What is the probability that at least one of your first 60 answers is correct?"
   ]
  },
  {
   "cell_type": "code",
   "execution_count": 28,
   "id": "92100ea2",
   "metadata": {},
   "outputs": [
    {
     "data": {
      "text/plain": [
       "0.45284335760923855"
      ]
     },
     "execution_count": 28,
     "metadata": {},
     "output_type": "execute_result"
    }
   ],
   "source": [
    "p = 0.01\n",
    "stats.binom(60, 0.01).sf(0)\n",
    "\n",
    "# 45.3% that at least one of the first 60 answers is correct"
   ]
  },
  {
   "cell_type": "markdown",
   "id": "f83e4ac9",
   "metadata": {},
   "source": [
    "## 5. The codeup staff tends to get upset when the student break area is not cleaned up. Suppose that there's a 3% chance that any one student cleans the break area when they visit it, and, on any given day, about 90% of the 3 active cohorts of 22 students visit the break area.\n",
    "#### How likely is it that the break area gets cleaned up each day?  "
   ]
  },
  {
   "cell_type": "code",
   "execution_count": 58,
   "id": "dc2bf074",
   "metadata": {},
   "outputs": [
    {
     "data": {
      "text/plain": [
       "0.8362274861228872"
      ]
     },
     "execution_count": 58,
     "metadata": {},
     "output_type": "execute_result"
    }
   ],
   "source": [
    "p = 0.03\n",
    "sperday = 0.9*66\n",
    "stats.binom(sperday, p).sf(0)\n"
   ]
  },
  {
   "cell_type": "markdown",
   "id": "1a88d123",
   "metadata": {},
   "source": [
    "#### How likely is it that it goes two days without getting cleaned up?"
   ]
  },
  {
   "cell_type": "code",
   "execution_count": 66,
   "id": "67cefd7e",
   "metadata": {},
   "outputs": [
    {
     "data": {
      "text/plain": [
       "0.026821436301628997"
      ]
     },
     "execution_count": 66,
     "metadata": {},
     "output_type": "execute_result"
    }
   ],
   "source": [
    "stats.binom(sperday*2, p).pmf(0)"
   ]
  },
  {
   "cell_type": "markdown",
   "id": "0dd2616e",
   "metadata": {},
   "source": [
    "#### All week?"
   ]
  },
  {
   "cell_type": "code",
   "execution_count": 67,
   "id": "b44238c9",
   "metadata": {},
   "outputs": [
    {
     "data": {
      "text/plain": [
       "3.1600001839866703e-06"
      ]
     },
     "execution_count": 67,
     "metadata": {},
     "output_type": "execute_result"
    }
   ],
   "source": [
    "stats.binom(sperday*7, p).pmf(0)"
   ]
  },
  {
   "cell_type": "markdown",
   "id": "d3ed40f3",
   "metadata": {},
   "source": [
    "## 6. You want to get lunch at La Panaderia, but notice that the line is usually very long at lunchtime. After several weeks of careful observation, you notice that the average number of people in line when your lunch break starts is normally distributed with a mean of 15 and standard deviation of 3. If it takes 2 minutes for each person to order, and 10 minutes from ordering to getting your food, what is the likelihood that you have at least 15 minutes left to eat your food before you have to go back to class? Assume you have one hour for lunch, and ignore travel time to and from La Panaderia."
   ]
  },
  {
   "cell_type": "code",
   "execution_count": 36,
   "id": "d9da517b",
   "metadata": {},
   "outputs": [
    {
     "data": {
      "text/plain": [
       "0.7976716190363569"
      ]
     },
     "execution_count": 36,
     "metadata": {},
     "output_type": "execute_result"
    }
   ],
   "source": [
    "mean = 30\n",
    "std = 6\n",
    "waittime=stats.norm(mean, std)\n",
    "waittime.cdf(35)"
   ]
  },
  {
   "cell_type": "code",
   "execution_count": 68,
   "id": "e1f9a9d4",
   "metadata": {},
   "outputs": [
    {
     "data": {
      "text/plain": [
       "0.6305586598182363"
      ]
     },
     "execution_count": 68,
     "metadata": {},
     "output_type": "execute_result"
    }
   ],
   "source": [
    "stats.norm(15,3).cdf(16)"
   ]
  },
  {
   "cell_type": "markdown",
   "id": "c1408051",
   "metadata": {},
   "source": [
    "## 7. Connect to the employees database and find the average salary of current employees, along with the standard deviation. For the following questions, calculate the answer based on modeling the employees salaries with a normal distribution defined by the calculated mean and standard deviation then compare this answer to the actual values present in the salaries dataset."
   ]
  },
  {
   "cell_type": "code",
   "execution_count": 38,
   "id": "cebc48d5",
   "metadata": {},
   "outputs": [],
   "source": [
    "from env import host, user, password\n",
    "\n",
    "get_db_url = f'mysql+pymysql://{user}:{password}@{host}/employees'"
   ]
  },
  {
   "cell_type": "code",
   "execution_count": 47,
   "id": "689e1064",
   "metadata": {},
   "outputs": [
    {
     "data": {
      "text/html": [
       "<div>\n",
       "<style scoped>\n",
       "    .dataframe tbody tr th:only-of-type {\n",
       "        vertical-align: middle;\n",
       "    }\n",
       "\n",
       "    .dataframe tbody tr th {\n",
       "        vertical-align: top;\n",
       "    }\n",
       "\n",
       "    .dataframe thead th {\n",
       "        text-align: right;\n",
       "    }\n",
       "</style>\n",
       "<table border=\"1\" class=\"dataframe\">\n",
       "  <thead>\n",
       "    <tr style=\"text-align: right;\">\n",
       "      <th></th>\n",
       "      <th>emp_no</th>\n",
       "      <th>birth_date</th>\n",
       "      <th>first_name</th>\n",
       "      <th>last_name</th>\n",
       "      <th>gender</th>\n",
       "      <th>hire_date</th>\n",
       "      <th>salary</th>\n",
       "      <th>from_date</th>\n",
       "      <th>to_date</th>\n",
       "    </tr>\n",
       "  </thead>\n",
       "  <tbody>\n",
       "    <tr>\n",
       "      <th>0</th>\n",
       "      <td>10001</td>\n",
       "      <td>1953-09-02</td>\n",
       "      <td>Georgi</td>\n",
       "      <td>Facello</td>\n",
       "      <td>M</td>\n",
       "      <td>1986-06-26</td>\n",
       "      <td>88958</td>\n",
       "      <td>2002-06-22</td>\n",
       "      <td>9999-01-01</td>\n",
       "    </tr>\n",
       "    <tr>\n",
       "      <th>1</th>\n",
       "      <td>10002</td>\n",
       "      <td>1964-06-02</td>\n",
       "      <td>Bezalel</td>\n",
       "      <td>Simmel</td>\n",
       "      <td>F</td>\n",
       "      <td>1985-11-21</td>\n",
       "      <td>72527</td>\n",
       "      <td>2001-08-02</td>\n",
       "      <td>9999-01-01</td>\n",
       "    </tr>\n",
       "    <tr>\n",
       "      <th>2</th>\n",
       "      <td>10003</td>\n",
       "      <td>1959-12-03</td>\n",
       "      <td>Parto</td>\n",
       "      <td>Bamford</td>\n",
       "      <td>M</td>\n",
       "      <td>1986-08-28</td>\n",
       "      <td>43311</td>\n",
       "      <td>2001-12-01</td>\n",
       "      <td>9999-01-01</td>\n",
       "    </tr>\n",
       "    <tr>\n",
       "      <th>3</th>\n",
       "      <td>10004</td>\n",
       "      <td>1954-05-01</td>\n",
       "      <td>Chirstian</td>\n",
       "      <td>Koblick</td>\n",
       "      <td>M</td>\n",
       "      <td>1986-12-01</td>\n",
       "      <td>74057</td>\n",
       "      <td>2001-11-27</td>\n",
       "      <td>9999-01-01</td>\n",
       "    </tr>\n",
       "    <tr>\n",
       "      <th>4</th>\n",
       "      <td>10005</td>\n",
       "      <td>1955-01-21</td>\n",
       "      <td>Kyoichi</td>\n",
       "      <td>Maliniak</td>\n",
       "      <td>M</td>\n",
       "      <td>1989-09-12</td>\n",
       "      <td>94692</td>\n",
       "      <td>2001-09-09</td>\n",
       "      <td>9999-01-01</td>\n",
       "    </tr>\n",
       "    <tr>\n",
       "      <th>...</th>\n",
       "      <td>...</td>\n",
       "      <td>...</td>\n",
       "      <td>...</td>\n",
       "      <td>...</td>\n",
       "      <td>...</td>\n",
       "      <td>...</td>\n",
       "      <td>...</td>\n",
       "      <td>...</td>\n",
       "      <td>...</td>\n",
       "    </tr>\n",
       "    <tr>\n",
       "      <th>240119</th>\n",
       "      <td>499995</td>\n",
       "      <td>1958-09-24</td>\n",
       "      <td>Dekang</td>\n",
       "      <td>Lichtner</td>\n",
       "      <td>F</td>\n",
       "      <td>1993-01-12</td>\n",
       "      <td>52868</td>\n",
       "      <td>2002-06-01</td>\n",
       "      <td>9999-01-01</td>\n",
       "    </tr>\n",
       "    <tr>\n",
       "      <th>240120</th>\n",
       "      <td>499996</td>\n",
       "      <td>1953-03-07</td>\n",
       "      <td>Zito</td>\n",
       "      <td>Baaz</td>\n",
       "      <td>M</td>\n",
       "      <td>1990-09-27</td>\n",
       "      <td>69501</td>\n",
       "      <td>2002-05-12</td>\n",
       "      <td>9999-01-01</td>\n",
       "    </tr>\n",
       "    <tr>\n",
       "      <th>240121</th>\n",
       "      <td>499997</td>\n",
       "      <td>1961-08-03</td>\n",
       "      <td>Berhard</td>\n",
       "      <td>Lenart</td>\n",
       "      <td>M</td>\n",
       "      <td>1986-04-21</td>\n",
       "      <td>83441</td>\n",
       "      <td>2001-08-26</td>\n",
       "      <td>9999-01-01</td>\n",
       "    </tr>\n",
       "    <tr>\n",
       "      <th>240122</th>\n",
       "      <td>499998</td>\n",
       "      <td>1956-09-05</td>\n",
       "      <td>Patricia</td>\n",
       "      <td>Breugel</td>\n",
       "      <td>M</td>\n",
       "      <td>1993-10-13</td>\n",
       "      <td>55003</td>\n",
       "      <td>2001-12-25</td>\n",
       "      <td>9999-01-01</td>\n",
       "    </tr>\n",
       "    <tr>\n",
       "      <th>240123</th>\n",
       "      <td>499999</td>\n",
       "      <td>1958-05-01</td>\n",
       "      <td>Sachin</td>\n",
       "      <td>Tsukuda</td>\n",
       "      <td>M</td>\n",
       "      <td>1997-11-30</td>\n",
       "      <td>77303</td>\n",
       "      <td>2001-11-29</td>\n",
       "      <td>9999-01-01</td>\n",
       "    </tr>\n",
       "  </tbody>\n",
       "</table>\n",
       "<p>240124 rows × 9 columns</p>\n",
       "</div>"
      ],
      "text/plain": [
       "        emp_no  birth_date first_name last_name gender   hire_date  salary  \\\n",
       "0        10001  1953-09-02     Georgi   Facello      M  1986-06-26   88958   \n",
       "1        10002  1964-06-02    Bezalel    Simmel      F  1985-11-21   72527   \n",
       "2        10003  1959-12-03      Parto   Bamford      M  1986-08-28   43311   \n",
       "3        10004  1954-05-01  Chirstian   Koblick      M  1986-12-01   74057   \n",
       "4        10005  1955-01-21    Kyoichi  Maliniak      M  1989-09-12   94692   \n",
       "...        ...         ...        ...       ...    ...         ...     ...   \n",
       "240119  499995  1958-09-24     Dekang  Lichtner      F  1993-01-12   52868   \n",
       "240120  499996  1953-03-07       Zito      Baaz      M  1990-09-27   69501   \n",
       "240121  499997  1961-08-03    Berhard    Lenart      M  1986-04-21   83441   \n",
       "240122  499998  1956-09-05   Patricia   Breugel      M  1993-10-13   55003   \n",
       "240123  499999  1958-05-01     Sachin   Tsukuda      M  1997-11-30   77303   \n",
       "\n",
       "         from_date     to_date  \n",
       "0       2002-06-22  9999-01-01  \n",
       "1       2001-08-02  9999-01-01  \n",
       "2       2001-12-01  9999-01-01  \n",
       "3       2001-11-27  9999-01-01  \n",
       "4       2001-09-09  9999-01-01  \n",
       "...            ...         ...  \n",
       "240119  2002-06-01  9999-01-01  \n",
       "240120  2002-05-12  9999-01-01  \n",
       "240121  2001-08-26  9999-01-01  \n",
       "240122  2001-12-25  9999-01-01  \n",
       "240123  2001-11-29  9999-01-01  \n",
       "\n",
       "[240124 rows x 9 columns]"
      ]
     },
     "execution_count": 47,
     "metadata": {},
     "output_type": "execute_result"
    }
   ],
   "source": [
    "query = '''\n",
    "SELECT *\n",
    "FROM employees JOIN salaries USING(emp_no)\n",
    "WHERE to_date > NOW()\n",
    "'''\n",
    "emp_s = pd.read_sql(query, get_db_url)\n",
    "emp_s"
   ]
  },
  {
   "cell_type": "code",
   "execution_count": 51,
   "id": "0af7097e",
   "metadata": {},
   "outputs": [],
   "source": [
    "# avg salary\n",
    "\n",
    "mean = emp_s.salary.mean()"
   ]
  },
  {
   "cell_type": "code",
   "execution_count": 52,
   "id": "3cf2c9cd",
   "metadata": {},
   "outputs": [],
   "source": [
    "# std salary\n",
    "\n",
    "std = emp_s.salary.std()"
   ]
  },
  {
   "cell_type": "markdown",
   "id": "bd75245d",
   "metadata": {},
   "source": [
    "#### a. What percent of employees earn less than 60,000?"
   ]
  },
  {
   "cell_type": "code",
   "execution_count": 53,
   "id": "4bf4a401",
   "metadata": {},
   "outputs": [],
   "source": [
    "s = stats.norm(mean, std)"
   ]
  },
  {
   "cell_type": "code",
   "execution_count": 69,
   "id": "c1eb74fe",
   "metadata": {},
   "outputs": [
    {
     "data": {
      "text/plain": [
       "0.2438393099761686"
      ]
     },
     "execution_count": 69,
     "metadata": {},
     "output_type": "execute_result"
    }
   ],
   "source": [
    "s.cdf(59999)"
   ]
  },
  {
   "cell_type": "markdown",
   "id": "a4408945",
   "metadata": {},
   "source": [
    "#### b. What percent of employees earn more than 95,000?"
   ]
  },
  {
   "cell_type": "code",
   "execution_count": 55,
   "id": "979b8f29",
   "metadata": {},
   "outputs": [
    {
     "data": {
      "text/plain": [
       "0.09208819199804053"
      ]
     },
     "execution_count": 55,
     "metadata": {},
     "output_type": "execute_result"
    }
   ],
   "source": [
    "s.sf(95000)"
   ]
  },
  {
   "cell_type": "markdown",
   "id": "8d394ac9",
   "metadata": {},
   "source": [
    "#### c. What percent of employees earn between 65,000 and 80,000?"
   ]
  },
  {
   "cell_type": "code",
   "execution_count": 56,
   "id": "a7b40636",
   "metadata": {},
   "outputs": [
    {
     "data": {
      "text/plain": [
       "0.3350605685446666"
      ]
     },
     "execution_count": 56,
     "metadata": {},
     "output_type": "execute_result"
    }
   ],
   "source": [
    "s.cdf(80000)-s.cdf(65000)"
   ]
  },
  {
   "cell_type": "markdown",
   "id": "091b7afb",
   "metadata": {},
   "source": [
    "#### d. What do the top 5% of employees make?"
   ]
  },
  {
   "cell_type": "code",
   "execution_count": 57,
   "id": "e4bdc908",
   "metadata": {},
   "outputs": [
    {
     "data": {
      "text/plain": [
       "100484.64454102777"
      ]
     },
     "execution_count": 57,
     "metadata": {},
     "output_type": "execute_result"
    }
   ],
   "source": [
    "s.isf(0.05)"
   ]
  }
 ],
 "metadata": {
  "kernelspec": {
   "display_name": "Python 3 (ipykernel)",
   "language": "python",
   "name": "python3"
  },
  "language_info": {
   "codemirror_mode": {
    "name": "ipython",
    "version": 3
   },
   "file_extension": ".py",
   "mimetype": "text/x-python",
   "name": "python",
   "nbconvert_exporter": "python",
   "pygments_lexer": "ipython3",
   "version": "3.9.12"
  }
 },
 "nbformat": 4,
 "nbformat_minor": 5
}
