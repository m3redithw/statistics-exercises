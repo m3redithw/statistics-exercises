{
 "cells": [
  {
   "cell_type": "markdown",
   "id": "26879988",
   "metadata": {},
   "source": [
    "## For each of the following questions, formulate a null and alternative hypothesis (be as specific as you can be), then give an example of what a true positive, true negative, type I and type II errors would look like. Note that some of the questions are intentionally phrased in a vague way. It is your job to reword these as more precise questions that could be tested."
   ]
  },
  {
   "cell_type": "markdown",
   "id": "7fb55573",
   "metadata": {},
   "source": [
    "### 1. Has the network latency gone up since we switched internet service providers?"
   ]
  },
  {
   "cell_type": "code",
   "execution_count": null,
   "id": "d3e671ca",
   "metadata": {},
   "outputs": [],
   "source": [
    "# H0 = The time for computer ping is the same or worse.\n",
    "# Ha = The time for computer ping is better/faster."
   ]
  },
  {
   "cell_type": "markdown",
   "id": "a5b717f0",
   "metadata": {},
   "source": [
    "True Positive\n",
    "    small p-value -- < alpha (.001)\n",
    "    reject H0\n",
    "    \n",
    "    The data shows that suvery score did improve\n",
    "    avg survey score before switching internet service: 65 ms\n",
    "    avg survey score after switching internet services: 60 ms\n",
    "\n",
    "False Positive\n",
    "    \n",
    "    small p-value\n",
    "    reject H0\n",
    "    \n",
    "    Test was re-taken while internet activity had significantly increased.\n",
    "    Causing an increase in ping time.\n",
    "True Negative\n",
    "    \n",
    "    highter p-value\n",
    "    fail to reject H0\n",
    "    \n",
    "    we found no difference in survey scores did improve\n",
    "    avg survey score before switching internet service: 65 ms\n",
    "    avg survey score after switching internet services: 60 ms\n",
    "\n",
    "\n",
    "False Negative\n",
    "    \n",
    "    higher p-value\n",
    "    faile to rejct H0\n",
    "    \n",
    "    test was originally taken while internet activity had siginificantly increased, causing an increase in ping time\n",
    "    \n",
    "    avg survey score before switching internet service: 65 ms\n",
    "    avg survey score after switching internet services: 60 ms"
   ]
  },
  {
   "cell_type": "markdown",
   "id": "ef115493",
   "metadata": {},
   "source": [
    "### 2. Is the website redesign any good?"
   ]
  },
  {
   "cell_type": "code",
   "execution_count": null,
   "id": "b9c2d82f",
   "metadata": {},
   "outputs": [],
   "source": [
    "# H0 = The avg visits is equal or has decreased.\n",
    "# Ha = The avg visits has increased."
   ]
  },
  {
   "cell_type": "markdown",
   "id": "3ef2aaa9",
   "metadata": {},
   "source": [
    "True Positive\n",
    "   \n",
    "    small p-value -- < alpha (.001)\n",
    "    reject H0\n",
    "    \n",
    "    The data shows that suvery score did improve the website\n",
    "    avg visits before redesign: 1000\n",
    "    avg visits after redesign: 5000\n",
    "\n",
    "False Positive\n",
    "    \n",
    "    small p-value\n",
    "    reject H0\n",
    "    \n",
    "    The data shows that suvery score did improve the website\n",
    "    avg visits before redesign: 1000\n",
    "    avg visits after redesign: 5000\n",
    "    \n",
    "    Second test was done on Cyber Monday\n",
    "True Negative\n",
    "    \n",
    "    highter p-value\n",
    "    fail to reject H0\n",
    "\n",
    "    The data shows that the website did worse after redesign\n",
    "    avg visits before redesign: 5000\n",
    "    avg visits after redesign: 1000\n",
    "\n",
    "\n",
    "False Negative\n",
    "    \n",
    "    higher p-value\n",
    "    faile to rejct H0\n",
    "   \n",
    "    The data shows that the website did worse after redesign, website crashed during re-test\n",
    "    avg visits before redesign: 5000\n",
    "    avg visits after redesign: 1000"
   ]
  },
  {
   "cell_type": "markdown",
   "id": "c2105ecb",
   "metadata": {},
   "source": [
    "### 3. Is our television ad driving more sales?"
   ]
  },
  {
   "cell_type": "code",
   "execution_count": null,
   "id": "63a50cc0",
   "metadata": {},
   "outputs": [],
   "source": [
    "# H0 = Monthly avg sales stayed the same or decreased after airing ad\n",
    "# Ha = Monthly avg sales increased after airing ad"
   ]
  },
  {
   "cell_type": "markdown",
   "id": "943a4bb7",
   "metadata": {},
   "source": [
    "True Positive\n",
    "   \n",
    "    small p-value -- < alpha (.001)\n",
    "    reject H0\n",
    "    \n",
    "    The data shows that sales increased after airing ad\n",
    "    avg monthly sales before ad: 10000\n",
    "    avg monthly sales after ad: 15000\n",
    "\n",
    "False Positive\n",
    "    \n",
    "    small p-value\n",
    "    reject H0\n",
    "    \n",
    "    The data shows that sales increased after airing ad\n",
    "    avg monthly sales before ad: 10000\n",
    "    avg monthly sales after ad: 15000\n",
    "    \n",
    "    competitor across street closed after test\n",
    "True Negative\n",
    "    \n",
    "    highter p-value\n",
    "    fail to reject H0\n",
    "\n",
    "    The data shows that sales decreased after airing ad\n",
    "    avg monthly sales before ad: 15000\n",
    "    avg monthly sales after ad: 10000\n",
    "\n",
    "False Negative\n",
    "    \n",
    "    higher p-value\n",
    "    faile to rejct H0\n",
    "   \n",
    "    The data shows that sales decreased after airing ad\n",
    "    avg monthly sales before ad: 15000\n",
    "    avg monthly sales after ad: 10000\n",
    "    \n",
    "    extreme weather caused lower customer traffic"
   ]
  },
  {
   "cell_type": "code",
   "execution_count": null,
   "id": "889fca87",
   "metadata": {},
   "outputs": [],
   "source": [
    "stats.ttest_ind_from_stats()"
   ]
  },
  {
   "cell_type": "markdown",
   "id": "49c67f43",
   "metadata": {},
   "source": [
    "## Ace Realty wants to determine whether the average time it takes to sell homes is different for its two offices. A sample of 40 sales from office #1 revealed a mean of 90 days and a standard deviation of 15 days. A sample of 50 sales from office #2 revealed a mean of 100 days and a standard deviation of 20 days. Use a .05 level of significance."
   ]
  },
  {
   "cell_type": "code",
   "execution_count": 20,
   "id": "2e9e59c3",
   "metadata": {},
   "outputs": [
    {
     "data": {
      "text/plain": [
       "Ttest_indResult(statistic=-2.6252287036468456, pvalue=0.01020985244923939)"
      ]
     },
     "execution_count": 20,
     "metadata": {},
     "output_type": "execute_result"
    }
   ],
   "source": [
    "mean1 = 90\n",
    "std1 = 15\n",
    "size1 = 40\n",
    "mean2 = 100\n",
    "std2 = 20\n",
    "size2 = 50\n",
    "α=0.05\n",
    "stats.ttest_ind_from_stats(mean1, std1, size1, mean2, std2, size2)"
   ]
  },
  {
   "cell_type": "code",
   "execution_count": 16,
   "id": "2ee8daca",
   "metadata": {},
   "outputs": [],
   "source": [
    "office1 = stats.norm(mean1, std1).rvs(size1)"
   ]
  },
  {
   "cell_type": "code",
   "execution_count": 17,
   "id": "8f9ccf31",
   "metadata": {},
   "outputs": [],
   "source": [
    "office2 = stats.norm(mean2, std2).rvs(size2)"
   ]
  },
  {
   "cell_type": "code",
   "execution_count": 18,
   "id": "63442f15",
   "metadata": {},
   "outputs": [],
   "source": [
    "t, p = stats.ttest_ind(office1,office2, equal_var=False)"
   ]
  },
  {
   "cell_type": "code",
   "execution_count": 21,
   "id": "3eb712ae",
   "metadata": {},
   "outputs": [
    {
     "data": {
      "text/plain": [
       "(-2.771133563984825, 0.006826396044346134, 0.05)"
      ]
     },
     "execution_count": 21,
     "metadata": {},
     "output_type": "execute_result"
    }
   ],
   "source": [
    "t, p, α"
   ]
  },
  {
   "cell_type": "code",
   "execution_count": 24,
   "id": "9394742e",
   "metadata": {},
   "outputs": [
    {
     "name": "stdout",
     "output_type": "stream",
     "text": [
      "We reject the null hypothesis\n"
     ]
    }
   ],
   "source": [
    "if (p/2 < α):\n",
    "    print(\"We reject the null hypothesis\")\n",
    "else:\n",
    "    print(\"We fail to reject the null hypothesis\")"
   ]
  },
  {
   "cell_type": "markdown",
   "id": "5ff975a3",
   "metadata": {},
   "source": [
    "## Load the mpg dataset and use it to answer the following questions:"
   ]
  },
  {
   "cell_type": "code",
   "execution_count": 2,
   "id": "a30c87c1",
   "metadata": {},
   "outputs": [],
   "source": [
    "import numpy as np\n",
    "import seaborn as sns\n",
    "import scipy.stats as stats\n",
    "import pandas as pd\n",
    "import matplotlib.pyplot as plt"
   ]
  },
  {
   "cell_type": "code",
   "execution_count": 25,
   "id": "837e2cc5",
   "metadata": {},
   "outputs": [],
   "source": [
    "from pydataset import data\n",
    "mpg = data('mpg')"
   ]
  },
  {
   "cell_type": "markdown",
   "id": "ac9b873e",
   "metadata": {},
   "source": [
    "### a. Is there a difference in fuel-efficiency in cars from 2008 vs 1999?"
   ]
  },
  {
   "cell_type": "code",
   "execution_count": 26,
   "id": "37a5ca91",
   "metadata": {},
   "outputs": [
    {
     "data": {
      "text/html": [
       "<div>\n",
       "<style scoped>\n",
       "    .dataframe tbody tr th:only-of-type {\n",
       "        vertical-align: middle;\n",
       "    }\n",
       "\n",
       "    .dataframe tbody tr th {\n",
       "        vertical-align: top;\n",
       "    }\n",
       "\n",
       "    .dataframe thead th {\n",
       "        text-align: right;\n",
       "    }\n",
       "</style>\n",
       "<table border=\"1\" class=\"dataframe\">\n",
       "  <thead>\n",
       "    <tr style=\"text-align: right;\">\n",
       "      <th></th>\n",
       "      <th>manufacturer</th>\n",
       "      <th>model</th>\n",
       "      <th>displ</th>\n",
       "      <th>year</th>\n",
       "      <th>cyl</th>\n",
       "      <th>trans</th>\n",
       "      <th>drv</th>\n",
       "      <th>cty</th>\n",
       "      <th>hwy</th>\n",
       "      <th>fl</th>\n",
       "      <th>class</th>\n",
       "    </tr>\n",
       "  </thead>\n",
       "  <tbody>\n",
       "    <tr>\n",
       "      <th>1</th>\n",
       "      <td>audi</td>\n",
       "      <td>a4</td>\n",
       "      <td>1.8</td>\n",
       "      <td>1999</td>\n",
       "      <td>4</td>\n",
       "      <td>auto(l5)</td>\n",
       "      <td>f</td>\n",
       "      <td>18</td>\n",
       "      <td>29</td>\n",
       "      <td>p</td>\n",
       "      <td>compact</td>\n",
       "    </tr>\n",
       "    <tr>\n",
       "      <th>2</th>\n",
       "      <td>audi</td>\n",
       "      <td>a4</td>\n",
       "      <td>1.8</td>\n",
       "      <td>1999</td>\n",
       "      <td>4</td>\n",
       "      <td>manual(m5)</td>\n",
       "      <td>f</td>\n",
       "      <td>21</td>\n",
       "      <td>29</td>\n",
       "      <td>p</td>\n",
       "      <td>compact</td>\n",
       "    </tr>\n",
       "    <tr>\n",
       "      <th>3</th>\n",
       "      <td>audi</td>\n",
       "      <td>a4</td>\n",
       "      <td>2.0</td>\n",
       "      <td>2008</td>\n",
       "      <td>4</td>\n",
       "      <td>manual(m6)</td>\n",
       "      <td>f</td>\n",
       "      <td>20</td>\n",
       "      <td>31</td>\n",
       "      <td>p</td>\n",
       "      <td>compact</td>\n",
       "    </tr>\n",
       "    <tr>\n",
       "      <th>4</th>\n",
       "      <td>audi</td>\n",
       "      <td>a4</td>\n",
       "      <td>2.0</td>\n",
       "      <td>2008</td>\n",
       "      <td>4</td>\n",
       "      <td>auto(av)</td>\n",
       "      <td>f</td>\n",
       "      <td>21</td>\n",
       "      <td>30</td>\n",
       "      <td>p</td>\n",
       "      <td>compact</td>\n",
       "    </tr>\n",
       "    <tr>\n",
       "      <th>5</th>\n",
       "      <td>audi</td>\n",
       "      <td>a4</td>\n",
       "      <td>2.8</td>\n",
       "      <td>1999</td>\n",
       "      <td>6</td>\n",
       "      <td>auto(l5)</td>\n",
       "      <td>f</td>\n",
       "      <td>16</td>\n",
       "      <td>26</td>\n",
       "      <td>p</td>\n",
       "      <td>compact</td>\n",
       "    </tr>\n",
       "  </tbody>\n",
       "</table>\n",
       "</div>"
      ],
      "text/plain": [
       "  manufacturer model  displ  year  cyl       trans drv  cty  hwy fl    class\n",
       "1         audi    a4    1.8  1999    4    auto(l5)   f   18   29  p  compact\n",
       "2         audi    a4    1.8  1999    4  manual(m5)   f   21   29  p  compact\n",
       "3         audi    a4    2.0  2008    4  manual(m6)   f   20   31  p  compact\n",
       "4         audi    a4    2.0  2008    4    auto(av)   f   21   30  p  compact\n",
       "5         audi    a4    2.8  1999    6    auto(l5)   f   16   26  p  compact"
      ]
     },
     "execution_count": 26,
     "metadata": {},
     "output_type": "execute_result"
    }
   ],
   "source": [
    "mpg.head()"
   ]
  },
  {
   "cell_type": "code",
   "execution_count": 27,
   "id": "2cd8cdc2",
   "metadata": {},
   "outputs": [],
   "source": [
    "# H0: there is no difference in fuel-effifiency in cars from 2008 vs 1999\n",
    "# Ha: there is a difference in fuel-effifiency in cars from 2008 vs 1999"
   ]
  },
  {
   "cell_type": "code",
   "execution_count": 28,
   "id": "a9f15807",
   "metadata": {},
   "outputs": [],
   "source": [
    "mpg['avg_fuel'] = (mpg['hwy']+mpg['cty'])/2"
   ]
  },
  {
   "cell_type": "code",
   "execution_count": 38,
   "id": "defff652",
   "metadata": {},
   "outputs": [
    {
     "data": {
      "text/html": [
       "<div>\n",
       "<style scoped>\n",
       "    .dataframe tbody tr th:only-of-type {\n",
       "        vertical-align: middle;\n",
       "    }\n",
       "\n",
       "    .dataframe tbody tr th {\n",
       "        vertical-align: top;\n",
       "    }\n",
       "\n",
       "    .dataframe thead th {\n",
       "        text-align: right;\n",
       "    }\n",
       "</style>\n",
       "<table border=\"1\" class=\"dataframe\">\n",
       "  <thead>\n",
       "    <tr style=\"text-align: right;\">\n",
       "      <th></th>\n",
       "      <th>manufacturer</th>\n",
       "      <th>model</th>\n",
       "      <th>displ</th>\n",
       "      <th>year</th>\n",
       "      <th>cyl</th>\n",
       "      <th>trans</th>\n",
       "      <th>drv</th>\n",
       "      <th>cty</th>\n",
       "      <th>hwy</th>\n",
       "      <th>fl</th>\n",
       "      <th>class</th>\n",
       "      <th>avg_fuel</th>\n",
       "    </tr>\n",
       "  </thead>\n",
       "  <tbody>\n",
       "    <tr>\n",
       "      <th>1</th>\n",
       "      <td>audi</td>\n",
       "      <td>a4</td>\n",
       "      <td>1.8</td>\n",
       "      <td>1999</td>\n",
       "      <td>4</td>\n",
       "      <td>auto(l5)</td>\n",
       "      <td>f</td>\n",
       "      <td>18</td>\n",
       "      <td>29</td>\n",
       "      <td>p</td>\n",
       "      <td>compact</td>\n",
       "      <td>23.5</td>\n",
       "    </tr>\n",
       "    <tr>\n",
       "      <th>2</th>\n",
       "      <td>audi</td>\n",
       "      <td>a4</td>\n",
       "      <td>1.8</td>\n",
       "      <td>1999</td>\n",
       "      <td>4</td>\n",
       "      <td>manual(m5)</td>\n",
       "      <td>f</td>\n",
       "      <td>21</td>\n",
       "      <td>29</td>\n",
       "      <td>p</td>\n",
       "      <td>compact</td>\n",
       "      <td>25.0</td>\n",
       "    </tr>\n",
       "    <tr>\n",
       "      <th>3</th>\n",
       "      <td>audi</td>\n",
       "      <td>a4</td>\n",
       "      <td>2.0</td>\n",
       "      <td>2008</td>\n",
       "      <td>4</td>\n",
       "      <td>manual(m6)</td>\n",
       "      <td>f</td>\n",
       "      <td>20</td>\n",
       "      <td>31</td>\n",
       "      <td>p</td>\n",
       "      <td>compact</td>\n",
       "      <td>25.5</td>\n",
       "    </tr>\n",
       "    <tr>\n",
       "      <th>4</th>\n",
       "      <td>audi</td>\n",
       "      <td>a4</td>\n",
       "      <td>2.0</td>\n",
       "      <td>2008</td>\n",
       "      <td>4</td>\n",
       "      <td>auto(av)</td>\n",
       "      <td>f</td>\n",
       "      <td>21</td>\n",
       "      <td>30</td>\n",
       "      <td>p</td>\n",
       "      <td>compact</td>\n",
       "      <td>25.5</td>\n",
       "    </tr>\n",
       "    <tr>\n",
       "      <th>5</th>\n",
       "      <td>audi</td>\n",
       "      <td>a4</td>\n",
       "      <td>2.8</td>\n",
       "      <td>1999</td>\n",
       "      <td>6</td>\n",
       "      <td>auto(l5)</td>\n",
       "      <td>f</td>\n",
       "      <td>16</td>\n",
       "      <td>26</td>\n",
       "      <td>p</td>\n",
       "      <td>compact</td>\n",
       "      <td>21.0</td>\n",
       "    </tr>\n",
       "  </tbody>\n",
       "</table>\n",
       "</div>"
      ],
      "text/plain": [
       "  manufacturer model  displ  year  cyl       trans drv  cty  hwy fl    class  \\\n",
       "1         audi    a4    1.8  1999    4    auto(l5)   f   18   29  p  compact   \n",
       "2         audi    a4    1.8  1999    4  manual(m5)   f   21   29  p  compact   \n",
       "3         audi    a4    2.0  2008    4  manual(m6)   f   20   31  p  compact   \n",
       "4         audi    a4    2.0  2008    4    auto(av)   f   21   30  p  compact   \n",
       "5         audi    a4    2.8  1999    6    auto(l5)   f   16   26  p  compact   \n",
       "\n",
       "   avg_fuel  \n",
       "1      23.5  \n",
       "2      25.0  \n",
       "3      25.5  \n",
       "4      25.5  \n",
       "5      21.0  "
      ]
     },
     "execution_count": 38,
     "metadata": {},
     "output_type": "execute_result"
    }
   ],
   "source": [
    "mpg.head()"
   ]
  },
  {
   "cell_type": "code",
   "execution_count": 31,
   "id": "53680a9a",
   "metadata": {},
   "outputs": [],
   "source": [
    "avg2008 = mpg[mpg.year == 2008].avg_fuel\n",
    "avg1999 = mpg[mpg.year == 1999].avg_fuel"
   ]
  },
  {
   "cell_type": "code",
   "execution_count": 32,
   "id": "a4b4f22e",
   "metadata": {},
   "outputs": [],
   "source": [
    "t,p = stats.ttest_ind(avg2008, avg1999, equal_var = False)"
   ]
  },
  {
   "cell_type": "code",
   "execution_count": 33,
   "id": "9a4ecba6",
   "metadata": {},
   "outputs": [
    {
     "data": {
      "text/plain": [
       "(-0.21960177245940962, 0.8263750772060638)"
      ]
     },
     "execution_count": 33,
     "metadata": {},
     "output_type": "execute_result"
    }
   ],
   "source": [
    "t,p"
   ]
  },
  {
   "cell_type": "code",
   "execution_count": 34,
   "id": "77aef531",
   "metadata": {},
   "outputs": [
    {
     "name": "stdout",
     "output_type": "stream",
     "text": [
      "We fail to reject the null hypothesis\n"
     ]
    }
   ],
   "source": [
    "if (p/2 < α):\n",
    "    print(\"We reject the null hypothesis\")\n",
    "else:\n",
    "    print(\"We fail to reject the null hypothesis\")"
   ]
  },
  {
   "cell_type": "markdown",
   "id": "9a0281ff",
   "metadata": {},
   "source": [
    "### b. Are compact cars more fuel-efficient than the average car?\n"
   ]
  },
  {
   "cell_type": "code",
   "execution_count": 36,
   "id": "6b8a7fc7",
   "metadata": {},
   "outputs": [
    {
     "data": {
      "text/plain": [
       "suv           62\n",
       "compact       47\n",
       "midsize       41\n",
       "subcompact    35\n",
       "pickup        33\n",
       "minivan       11\n",
       "2seater        5\n",
       "Name: class, dtype: int64"
      ]
     },
     "execution_count": 36,
     "metadata": {},
     "output_type": "execute_result"
    }
   ],
   "source": [
    "mpg['class'].value_counts()"
   ]
  },
  {
   "cell_type": "code",
   "execution_count": 39,
   "id": "0ce2e61e",
   "metadata": {},
   "outputs": [],
   "source": [
    "avg_com = mpg[mpg['class']=='compact'].avg_fuel\n",
    "avg_notc = mpg[mpg['class']!= 'compact'].avg_fuel"
   ]
  },
  {
   "cell_type": "code",
   "execution_count": 40,
   "id": "25a68141",
   "metadata": {},
   "outputs": [],
   "source": [
    "t,p = stats.ttest_ind(avg_com, avg_notc, equal_var = False)"
   ]
  },
  {
   "cell_type": "code",
   "execution_count": 41,
   "id": "c2480bb6",
   "metadata": {},
   "outputs": [
    {
     "data": {
      "text/plain": [
       "(8.128810422808078, 1.6018060656123074e-12)"
      ]
     },
     "execution_count": 41,
     "metadata": {},
     "output_type": "execute_result"
    }
   ],
   "source": [
    "t, p"
   ]
  },
  {
   "cell_type": "code",
   "execution_count": 44,
   "id": "92cf1f0d",
   "metadata": {},
   "outputs": [
    {
     "name": "stdout",
     "output_type": "stream",
     "text": [
      "We reject the null hypothesis\n"
     ]
    }
   ],
   "source": [
    "if ((p/2 < α) & (t >0)):\n",
    "    print(\"We reject the null hypothesis\")\n",
    "else:\n",
    "    print(\"We fail to reject the null hypothesis\")"
   ]
  },
  {
   "cell_type": "markdown",
   "id": "1a3c7bfc",
   "metadata": {},
   "source": [
    "### c. Do manual cars get better gas mileage than automatic cars?"
   ]
  },
  {
   "cell_type": "code",
   "execution_count": null,
   "id": "612eb59b",
   "metadata": {},
   "outputs": [],
   "source": [
    "# H0: there is no difference in gas mileage in manual and automatic cars\n",
    "# Ha: manual cars get better gas mileage than automatic cars"
   ]
  },
  {
   "cell_type": "code",
   "execution_count": 45,
   "id": "c92c682a",
   "metadata": {},
   "outputs": [],
   "source": [
    "m = mpg[mpg['trans'].astype(str).str[0]=='m'].avg_fuel\n",
    "a = mpg[mpg['trans'].astype(str).str[0]!='m'].avg_fuel"
   ]
  },
  {
   "cell_type": "code",
   "execution_count": 46,
   "id": "0104c9db",
   "metadata": {},
   "outputs": [],
   "source": [
    "t,p = stats.ttest_ind(m,a,equal_var = False)"
   ]
  },
  {
   "cell_type": "code",
   "execution_count": 47,
   "id": "23f30e2c",
   "metadata": {},
   "outputs": [
    {
     "data": {
      "text/plain": [
       "(4.443514012903071, 1.795224899991793e-05)"
      ]
     },
     "execution_count": 47,
     "metadata": {},
     "output_type": "execute_result"
    }
   ],
   "source": [
    "t,p"
   ]
  },
  {
   "cell_type": "code",
   "execution_count": 48,
   "id": "ebeb3179",
   "metadata": {},
   "outputs": [
    {
     "name": "stdout",
     "output_type": "stream",
     "text": [
      "We reject the null hypothesis\n"
     ]
    }
   ],
   "source": [
    "if ((p/2 < α) & (t >0)):\n",
    "    print(\"We reject the null hypothesis\")\n",
    "else:\n",
    "    print(\"We fail to reject the null hypothesis\")"
   ]
  },
  {
   "cell_type": "code",
   "execution_count": null,
   "id": "49755c4b",
   "metadata": {},
   "outputs": [],
   "source": []
  }
 ],
 "metadata": {
  "kernelspec": {
   "display_name": "Python 3 (ipykernel)",
   "language": "python",
   "name": "python3"
  },
  "language_info": {
   "codemirror_mode": {
    "name": "ipython",
    "version": 3
   },
   "file_extension": ".py",
   "mimetype": "text/x-python",
   "name": "python",
   "nbconvert_exporter": "python",
   "pygments_lexer": "ipython3",
   "version": "3.9.12"
  }
 },
 "nbformat": 4,
 "nbformat_minor": 5
}
