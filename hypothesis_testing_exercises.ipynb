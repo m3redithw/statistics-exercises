{
 "cells": [
  {
   "cell_type": "markdown",
   "id": "26879988",
   "metadata": {},
   "source": [
    "## For each of the following questions, formulate a null and alternative hypothesis (be as specific as you can be), then give an example of what a true positive, true negative, type I and type II errors would look like. Note that some of the questions are intentionally phrased in a vague way. It is your job to reword these as more precise questions that could be tested."
   ]
  },
  {
   "cell_type": "markdown",
   "id": "7fb55573",
   "metadata": {},
   "source": [
    "### 1. Has the network latency gone up since we switched internet service providers?"
   ]
  },
  {
   "cell_type": "code",
   "execution_count": null,
   "id": "d3e671ca",
   "metadata": {},
   "outputs": [],
   "source": [
    "# H0 = The time for computer ping is the same or worse.\n",
    "# Ha = The time for computer ping is better/faster."
   ]
  },
  {
   "cell_type": "markdown",
   "id": "a5b717f0",
   "metadata": {},
   "source": [
    "True Positive\n",
    "    small p-value -- < alpha (.001)\n",
    "    reject H0\n",
    "    \n",
    "    The data shows that suvery score did improve\n",
    "    avg survey score before switching internet service: 65 ms\n",
    "    avg survey score after switching internet services: 60 ms\n",
    "\n",
    "False Positive\n",
    "    \n",
    "    small p-value\n",
    "    reject H0\n",
    "    \n",
    "    Test was re-taken while internet activity had significantly increased.\n",
    "    Causing an increase in ping time.\n",
    "True Negative\n",
    "    \n",
    "    highter p-value\n",
    "    fail to reject H0\n",
    "    \n",
    "    we found no difference in survey scores did improve\n",
    "    avg survey score before switching internet service: 65 ms\n",
    "    avg survey score after switching internet services: 60 ms\n",
    "\n",
    "\n",
    "False Negative\n",
    "    \n",
    "    higher p-value\n",
    "    faile to rejct H0\n",
    "    \n",
    "    test was originally taken while internet activity had siginificantly increased, causing an increase in ping time\n",
    "    \n",
    "    avg survey score before switching internet service: 65 ms\n",
    "    avg survey score after switching internet services: 60 ms"
   ]
  },
  {
   "cell_type": "markdown",
   "id": "ef115493",
   "metadata": {},
   "source": [
    "### 2. Is the website redesign any good?"
   ]
  },
  {
   "cell_type": "code",
   "execution_count": null,
   "id": "b9c2d82f",
   "metadata": {},
   "outputs": [],
   "source": [
    "# H0 = The avg visits is equal or has decreased.\n",
    "# Ha = The avg visits has increased."
   ]
  },
  {
   "cell_type": "markdown",
   "id": "3ef2aaa9",
   "metadata": {},
   "source": [
    "True Positive\n",
    "   \n",
    "    small p-value -- < alpha (.001)\n",
    "    reject H0\n",
    "    \n",
    "    The data shows that suvery score did improve the website\n",
    "    avg visits before redesign: 1000\n",
    "    avg visits after redesign: 5000\n",
    "\n",
    "False Positive\n",
    "    \n",
    "    small p-value\n",
    "    reject H0\n",
    "    \n",
    "    The data shows that suvery score did improve the website\n",
    "    avg visits before redesign: 1000\n",
    "    avg visits after redesign: 5000\n",
    "    \n",
    "    Second test was done on Cyber Monday\n",
    "True Negative\n",
    "    \n",
    "    highter p-value\n",
    "    fail to reject H0\n",
    "\n",
    "    The data shows that the website did worse after redesign\n",
    "    avg visits before redesign: 5000\n",
    "    avg visits after redesign: 1000\n",
    "\n",
    "\n",
    "False Negative\n",
    "    \n",
    "    higher p-value\n",
    "    faile to rejct H0\n",
    "   \n",
    "    The data shows that the website did worse after redesign, website crashed during re-test\n",
    "    avg visits before redesign: 5000\n",
    "    avg visits after redesign: 1000"
   ]
  },
  {
   "cell_type": "markdown",
   "id": "c2105ecb",
   "metadata": {},
   "source": [
    "### 3. Is our television ad driving more sales?"
   ]
  },
  {
   "cell_type": "code",
   "execution_count": null,
   "id": "63a50cc0",
   "metadata": {},
   "outputs": [],
   "source": [
    "# H0 = Monthly avg sales stayed the same or decreased after airing ad\n",
    "# Ha = Monthly avg sales increased after airing ad"
   ]
  },
  {
   "cell_type": "markdown",
   "id": "943a4bb7",
   "metadata": {},
   "source": [
    "True Positive\n",
    "   \n",
    "    small p-value -- < alpha (.001)\n",
    "    reject H0\n",
    "    \n",
    "    The data shows that sales increased after airing ad\n",
    "    avg monthly sales before ad: 10000\n",
    "    avg monthly sales after ad: 15000\n",
    "\n",
    "False Positive\n",
    "    \n",
    "    small p-value\n",
    "    reject H0\n",
    "    \n",
    "    The data shows that sales increased after airing ad\n",
    "    avg monthly sales before ad: 10000\n",
    "    avg monthly sales after ad: 15000\n",
    "    \n",
    "    competitor across street closed after test\n",
    "True Negative\n",
    "    \n",
    "    highter p-value\n",
    "    fail to reject H0\n",
    "\n",
    "    The data shows that sales decreased after airing ad\n",
    "    avg monthly sales before ad: 15000\n",
    "    avg monthly sales after ad: 10000\n",
    "\n",
    "False Negative\n",
    "    \n",
    "    higher p-value\n",
    "    faile to rejct H0\n",
    "   \n",
    "    The data shows that sales decreased after airing ad\n",
    "    avg monthly sales before ad: 15000\n",
    "    avg monthly sales after ad: 10000\n",
    "    \n",
    "    extreme weather caused lower customer traffic"
   ]
  },
  {
   "cell_type": "code",
   "execution_count": null,
   "id": "889fca87",
   "metadata": {},
   "outputs": [],
   "source": [
    "stats.ttest_ind_from_stats()"
   ]
  },
  {
   "cell_type": "markdown",
   "id": "1c57bbbd",
   "metadata": {},
   "source": [
    "## Ace Realty wants to determine whether the average time it takes to sell homes is different for its two offices. A sample of 40 sales from office #1 revealed a mean of 90 days and a standard deviation of 15 days. A sample of 50 sales from office #2 revealed a mean of 100 days and a standard deviation of 20 days. Use a .05 level of significance."
   ]
  },
  {
   "cell_type": "markdown",
   "id": "45c8437e",
   "metadata": {},
   "source": [
    "## Load the mpg dataset and use it to answer the following questions:"
   ]
  },
  {
   "cell_type": "markdown",
   "id": "51b25128",
   "metadata": {},
   "source": [
    "### a. Is there a difference in fuel-efficiency in cars from 2008 vs 1999?"
   ]
  },
  {
   "cell_type": "markdown",
   "id": "ee4d02a3",
   "metadata": {},
   "source": [
    "### b. Are compact cars more fuel-efficient than the average car?\n"
   ]
  },
  {
   "cell_type": "markdown",
   "id": "4b82d699",
   "metadata": {},
   "source": [
    "### c. Do manual cars get better gas mileage than automatic cars?"
   ]
  },
  {
   "cell_type": "code",
   "execution_count": null,
   "id": "955cf661",
   "metadata": {},
   "outputs": [],
   "source": []
  },
  {
   "cell_type": "code",
   "execution_count": null,
   "id": "766d71d7",
   "metadata": {},
   "outputs": [],
   "source": []
  }
 ],
 "metadata": {
  "kernelspec": {
   "display_name": "Python 3 (ipykernel)",
   "language": "python",
   "name": "python3"
  },
  "language_info": {
   "codemirror_mode": {
    "name": "ipython",
    "version": 3
   },
   "file_extension": ".py",
   "mimetype": "text/x-python",
   "name": "python",
   "nbconvert_exporter": "python",
   "pygments_lexer": "ipython3",
   "version": "3.9.12"
  }
 },
 "nbformat": 4,
 "nbformat_minor": 5
}
