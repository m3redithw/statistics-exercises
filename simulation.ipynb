{
 "cells": [
  {
   "cell_type": "code",
   "execution_count": 36,
   "id": "9ef0e113",
   "metadata": {},
   "outputs": [],
   "source": [
    "import numpy as np\n",
    "import pandas as pd\n",
    "import matplotlib.pyplot as plt\n",
    "\n",
    "np.random.seed(69)"
   ]
  },
  {
   "cell_type": "markdown",
   "id": "bc014122",
   "metadata": {},
   "source": [
    "## 1. How likely is it that you roll doubles when rolling two dice?"
   ]
  },
  {
   "cell_type": "code",
   "execution_count": 19,
   "id": "d6d74f13",
   "metadata": {},
   "outputs": [
    {
     "data": {
      "text/plain": [
       "array([[1, 4],\n",
       "       [4, 5],\n",
       "       [2, 2],\n",
       "       ...,\n",
       "       [4, 6],\n",
       "       [2, 1],\n",
       "       [4, 6]])"
      ]
     },
     "execution_count": 19,
     "metadata": {},
     "output_type": "execute_result"
    }
   ],
   "source": [
    "# method 1\n",
    "n_trials = nrows = 10_000\n",
    "n_dice = ncols = 2\n",
    "\n",
    "rolls = np.random.choice([1, 2, 3, 4, 5, 6], size = (n_trials, n_dice))\n",
    "rolls"
   ]
  },
  {
   "cell_type": "code",
   "execution_count": 4,
   "id": "2916aff2",
   "metadata": {},
   "outputs": [
    {
     "data": {
      "text/html": [
       "<div>\n",
       "<style scoped>\n",
       "    .dataframe tbody tr th:only-of-type {\n",
       "        vertical-align: middle;\n",
       "    }\n",
       "\n",
       "    .dataframe tbody tr th {\n",
       "        vertical-align: top;\n",
       "    }\n",
       "\n",
       "    .dataframe thead th {\n",
       "        text-align: right;\n",
       "    }\n",
       "</style>\n",
       "<table border=\"1\" class=\"dataframe\">\n",
       "  <thead>\n",
       "    <tr style=\"text-align: right;\">\n",
       "      <th></th>\n",
       "      <th>0</th>\n",
       "      <th>1</th>\n",
       "    </tr>\n",
       "  </thead>\n",
       "  <tbody>\n",
       "    <tr>\n",
       "      <th>0</th>\n",
       "      <td>4</td>\n",
       "      <td>2</td>\n",
       "    </tr>\n",
       "    <tr>\n",
       "      <th>1</th>\n",
       "      <td>4</td>\n",
       "      <td>3</td>\n",
       "    </tr>\n",
       "    <tr>\n",
       "      <th>2</th>\n",
       "      <td>5</td>\n",
       "      <td>2</td>\n",
       "    </tr>\n",
       "    <tr>\n",
       "      <th>3</th>\n",
       "      <td>2</td>\n",
       "      <td>1</td>\n",
       "    </tr>\n",
       "    <tr>\n",
       "      <th>4</th>\n",
       "      <td>2</td>\n",
       "      <td>1</td>\n",
       "    </tr>\n",
       "    <tr>\n",
       "      <th>...</th>\n",
       "      <td>...</td>\n",
       "      <td>...</td>\n",
       "    </tr>\n",
       "    <tr>\n",
       "      <th>9995</th>\n",
       "      <td>1</td>\n",
       "      <td>2</td>\n",
       "    </tr>\n",
       "    <tr>\n",
       "      <th>9996</th>\n",
       "      <td>2</td>\n",
       "      <td>2</td>\n",
       "    </tr>\n",
       "    <tr>\n",
       "      <th>9997</th>\n",
       "      <td>2</td>\n",
       "      <td>4</td>\n",
       "    </tr>\n",
       "    <tr>\n",
       "      <th>9998</th>\n",
       "      <td>2</td>\n",
       "      <td>4</td>\n",
       "    </tr>\n",
       "    <tr>\n",
       "      <th>9999</th>\n",
       "      <td>2</td>\n",
       "      <td>1</td>\n",
       "    </tr>\n",
       "  </tbody>\n",
       "</table>\n",
       "<p>10000 rows × 2 columns</p>\n",
       "</div>"
      ],
      "text/plain": [
       "      0  1\n",
       "0     4  2\n",
       "1     4  3\n",
       "2     5  2\n",
       "3     2  1\n",
       "4     2  1\n",
       "...  .. ..\n",
       "9995  1  2\n",
       "9996  2  2\n",
       "9997  2  4\n",
       "9998  2  4\n",
       "9999  2  1\n",
       "\n",
       "[10000 rows x 2 columns]"
      ]
     },
     "execution_count": 4,
     "metadata": {},
     "output_type": "execute_result"
    }
   ],
   "source": [
    "pd.DataFrame(rolls)"
   ]
  },
  {
   "cell_type": "code",
   "execution_count": 20,
   "id": "91c438d7",
   "metadata": {},
   "outputs": [
    {
     "data": {
      "text/plain": [
       "0.1668"
      ]
     },
     "execution_count": 20,
     "metadata": {},
     "output_type": "execute_result"
    }
   ],
   "source": [
    "pd.DataFrame(rolls).apply(lambda row: row.values[0] == row.values[1], axis = 1).mean()\n",
    "\n",
    "# 16.7% to roll doubles when rolling two dice"
   ]
  },
  {
   "cell_type": "code",
   "execution_count": null,
   "id": "3dc653fa",
   "metadata": {},
   "outputs": [],
   "source": [
    "# method  2\n",
    "\n",
    "(rollls[:,0] == rolls[:,1]).mean()"
   ]
  },
  {
   "cell_type": "markdown",
   "id": "504f404c",
   "metadata": {},
   "source": [
    "## 2. If you flip 8 coins, what is the probability of getting exactly 3 heads? What is the probability of getting more than 3 heads?"
   ]
  },
  {
   "cell_type": "code",
   "execution_count": 24,
   "id": "13a9d620",
   "metadata": {},
   "outputs": [
    {
     "data": {
      "text/plain": [
       "array([[0, 1, 1, ..., 0, 0, 1],\n",
       "       [0, 1, 1, ..., 0, 1, 1],\n",
       "       [0, 1, 0, ..., 0, 0, 1],\n",
       "       ...,\n",
       "       [1, 0, 0, ..., 1, 0, 1],\n",
       "       [0, 0, 0, ..., 0, 0, 1],\n",
       "       [1, 0, 1, ..., 0, 1, 1]])"
      ]
     },
     "execution_count": 24,
     "metadata": {},
     "output_type": "execute_result"
    }
   ],
   "source": [
    "# method 1\n",
    "\n",
    "n_trails = nrows = 10_000\n",
    "n_flip = ncols = 8\n",
    "\n",
    "coins = np.random.choice([0,1], size= (n_trails, n_flip))\n",
    "coins"
   ]
  },
  {
   "cell_type": "code",
   "execution_count": 27,
   "id": "1186071d",
   "metadata": {},
   "outputs": [
    {
     "data": {
      "text/plain": [
       "0.2141"
      ]
     },
     "execution_count": 27,
     "metadata": {},
     "output_type": "execute_result"
    }
   ],
   "source": [
    "(coins.sum(axis=1) == 3).mean()\n",
    "\n",
    "# 21.4% to get exactly 3 heads"
   ]
  },
  {
   "cell_type": "code",
   "execution_count": 33,
   "id": "6ca2d1b3",
   "metadata": {},
   "outputs": [
    {
     "data": {
      "text/plain": [
       "0.6454"
      ]
     },
     "execution_count": 33,
     "metadata": {},
     "output_type": "execute_result"
    }
   ],
   "source": [
    "(coins.sum(axis=1) > 3).mean()\n",
    "\n",
    "# 64.5% to get more than 3 heads"
   ]
  },
  {
   "cell_type": "code",
   "execution_count": 23,
   "id": "a037207f",
   "metadata": {},
   "outputs": [
    {
     "data": {
      "text/plain": [
       "0.2217"
      ]
     },
     "execution_count": 23,
     "metadata": {},
     "output_type": "execute_result"
    }
   ],
   "source": [
    "# method 2\n",
    "\n",
    "n_trails = nrows = 10_000\n",
    "n_flip = ncols = 8\n",
    "\n",
    "coins = np.random.choice(['head','tail'], size= (n_trails, n_flip))\n",
    "coins\n",
    "(pd.DataFrame(coins).apply(counthead,axis=1)==3).mean()"
   ]
  },
  {
   "cell_type": "code",
   "execution_count": 14,
   "id": "5c0d0f00",
   "metadata": {},
   "outputs": [],
   "source": [
    "def counthead(row):\n",
    "    count = 0\n",
    "    for x in range(0,8):\n",
    "        if row[x] =='head':\n",
    "            count +=1\n",
    "    return count"
   ]
  },
  {
   "cell_type": "code",
   "execution_count": 29,
   "id": "d7149023",
   "metadata": {},
   "outputs": [
    {
     "data": {
      "text/plain": [
       "0       False\n",
       "1       False\n",
       "2       False\n",
       "3       False\n",
       "4        True\n",
       "        ...  \n",
       "9995     True\n",
       "9996     True\n",
       "9997     True\n",
       "9998    False\n",
       "9999    False\n",
       "Length: 10000, dtype: bool"
      ]
     },
     "execution_count": 29,
     "metadata": {},
     "output_type": "execute_result"
    }
   ],
   "source": [
    "# method 3 - using lambda function\n",
    "pd.DataFrame(coins).apply(lambda row: row.values.sum()==3, axis=1)"
   ]
  },
  {
   "cell_type": "markdown",
   "id": "a9147b58",
   "metadata": {},
   "source": [
    "## 3. There are approximitely 3 web development cohorts for every 1 data science cohort at Codeup. Assuming that Codeup randomly selects an alumni to put on a billboard, what are the odds that the two billboards I drive past both have data science students on them?"
   ]
  },
  {
   "cell_type": "code",
   "execution_count": 31,
   "id": "5292ea6e",
   "metadata": {},
   "outputs": [
    {
     "data": {
      "text/plain": [
       "array([[0, 0],\n",
       "       [0, 0],\n",
       "       [0, 0],\n",
       "       ...,\n",
       "       [1, 1],\n",
       "       [1, 0],\n",
       "       [0, 0]])"
      ]
     },
     "execution_count": 31,
     "metadata": {},
     "output_type": "execute_result"
    }
   ],
   "source": [
    "# 0 = Web development cohort\n",
    "# 1 = data science cohort\n",
    "\n",
    "n_trails = nrows = 10_000\n",
    "n_flip = ncols = 2\n",
    "cohort = np.random.choice([0,0,0,1], size=(n_trails, n_flip))\n",
    "cohort"
   ]
  },
  {
   "cell_type": "code",
   "execution_count": 32,
   "id": "5b292108",
   "metadata": {},
   "outputs": [
    {
     "data": {
      "text/plain": [
       "0.0646"
      ]
     },
     "execution_count": 32,
     "metadata": {},
     "output_type": "execute_result"
    }
   ],
   "source": [
    "(cohort.sum(axis=1)==2).mean()\n",
    "\n",
    "# 6.5% to drive past both have data science student"
   ]
  },
  {
   "cell_type": "code",
   "execution_count": 21,
   "id": "7e70ff9b",
   "metadata": {},
   "outputs": [
    {
     "data": {
      "text/plain": [
       "0.0625"
      ]
     },
     "execution_count": 21,
     "metadata": {},
     "output_type": "execute_result"
    }
   ],
   "source": [
    "# theoretical prob\n",
    "\n",
    "0.25 * 0.25"
   ]
  },
  {
   "cell_type": "markdown",
   "id": "6bacc920",
   "metadata": {},
   "source": [
    "## 4. Codeup students buy, on average, 3 poptart packages with a standard deviation of 1.5 a day from the snack vending machine. If on monday the machine is restocked with 17 poptart packages, how likely is it that I will be able to buy some poptarts on Friday afternoon? (Remember, if you have mean and standard deviation, use the np.random.normal) You'll need to make a judgement call on how to handle some of your values\n",
    "- `np.random.normal`: generates numbers from a normal distribution with a specified mean and standard deviation"
   ]
  },
  {
   "cell_type": "code",
   "execution_count": 55,
   "id": "25367637",
   "metadata": {},
   "outputs": [
    {
     "data": {
      "text/plain": [
       "array([[0.94023965, 1.54737152, 0.92380386, 2.62678278],\n",
       "       [1.97109208, 1.99150654, 2.52983251, 0.98007653],\n",
       "       [3.03565419, 1.67375296, 4.19678909, 2.81518052],\n",
       "       ...,\n",
       "       [3.59870923, 2.06507432, 3.88815815, 2.31008149],\n",
       "       [4.95851636, 2.81947826, 0.61217456, 4.98921801],\n",
       "       [1.65979459, 6.63601868, 1.11419101, 2.8716704 ]])"
      ]
     },
     "execution_count": 55,
     "metadata": {},
     "output_type": "execute_result"
    }
   ],
   "source": [
    "# method 1\n",
    "# avg = 3 poptarts/day; std = 1.5\n",
    "\n",
    "poptarts = np.random.normal(3, 1.5, (10_000,5))\n",
    "hungry = pd.DataFrame(poptarts)"
   ]
  },
  {
   "cell_type": "code",
   "execution_count": 174,
   "id": "faf9c913",
   "metadata": {},
   "outputs": [
    {
     "data": {
      "text/plain": [
       "0.7181"
      ]
     },
     "execution_count": 174,
     "metadata": {},
     "output_type": "execute_result"
    }
   ],
   "source": [
    "hungry.apply(lambda row: row.values.sum()<=17, axis = 1).mean()\n",
    "\n",
    "# 71.8% will have poptarts at Friday afternoon"
   ]
  },
  {
   "cell_type": "code",
   "execution_count": 23,
   "id": "a3d156e3",
   "metadata": {},
   "outputs": [
    {
     "data": {
      "text/plain": [
       "array([False,  True,  True, ...,  True,  True,  True])"
      ]
     },
     "execution_count": 23,
     "metadata": {},
     "output_type": "execute_result"
    }
   ],
   "source": [
    "# method 2\n",
    "\n",
    "pop = np.random.normal(3, 1.5, size =(10_000, 5))"
   ]
  },
  {
   "cell_type": "code",
   "execution_count": 24,
   "id": "0e5d0df3",
   "metadata": {},
   "outputs": [
    {
     "data": {
      "text/plain": [
       "0.7284"
      ]
     },
     "execution_count": 24,
     "metadata": {},
     "output_type": "execute_result"
    }
   ],
   "source": [
    "(pop.sum(axis = 1) < 17).mean()"
   ]
  },
  {
   "cell_type": "markdown",
   "id": "6bb981b6",
   "metadata": {},
   "source": [
    "## 5. Compare Heights\n",
    "\n",
    "#### Men have an average height of 178 cm and standard deviation of 8cm.\n",
    "#### Women have a mean of 170, sd = 6cm.\n",
    "#### Since you have means and standard deviations, you can use np.random.normal to generate observations.\n",
    "#### If a man and woman are chosen at random, what is the likelihood the woman is taller than the man?"
   ]
  },
  {
   "cell_type": "code",
   "execution_count": 77,
   "id": "741f38fb",
   "metadata": {},
   "outputs": [],
   "source": [
    "# mavg = 178, mstd = 8\n",
    "# favg = 170, fstd = 6\n",
    "male = pd.DataFrame(np.random.normal(178, 8, size=(10000, 1)))\n",
    "female = pd.DataFrame(np.random.normal(170, 6, size=(10000, 1)))\n"
   ]
  },
  {
   "cell_type": "code",
   "execution_count": 167,
   "id": "33a5a203",
   "metadata": {},
   "outputs": [
    {
     "data": {
      "text/html": [
       "<div>\n",
       "<style scoped>\n",
       "    .dataframe tbody tr th:only-of-type {\n",
       "        vertical-align: middle;\n",
       "    }\n",
       "\n",
       "    .dataframe tbody tr th {\n",
       "        vertical-align: top;\n",
       "    }\n",
       "\n",
       "    .dataframe thead th {\n",
       "        text-align: right;\n",
       "    }\n",
       "</style>\n",
       "<table border=\"1\" class=\"dataframe\">\n",
       "  <thead>\n",
       "    <tr style=\"text-align: right;\">\n",
       "      <th></th>\n",
       "      <th>0</th>\n",
       "    </tr>\n",
       "  </thead>\n",
       "  <tbody>\n",
       "    <tr>\n",
       "      <th>0</th>\n",
       "      <td>False</td>\n",
       "    </tr>\n",
       "    <tr>\n",
       "      <th>1</th>\n",
       "      <td>False</td>\n",
       "    </tr>\n",
       "    <tr>\n",
       "      <th>2</th>\n",
       "      <td>True</td>\n",
       "    </tr>\n",
       "    <tr>\n",
       "      <th>3</th>\n",
       "      <td>False</td>\n",
       "    </tr>\n",
       "    <tr>\n",
       "      <th>4</th>\n",
       "      <td>False</td>\n",
       "    </tr>\n",
       "    <tr>\n",
       "      <th>...</th>\n",
       "      <td>...</td>\n",
       "    </tr>\n",
       "    <tr>\n",
       "      <th>9995</th>\n",
       "      <td>False</td>\n",
       "    </tr>\n",
       "    <tr>\n",
       "      <th>9996</th>\n",
       "      <td>False</td>\n",
       "    </tr>\n",
       "    <tr>\n",
       "      <th>9997</th>\n",
       "      <td>True</td>\n",
       "    </tr>\n",
       "    <tr>\n",
       "      <th>9998</th>\n",
       "      <td>False</td>\n",
       "    </tr>\n",
       "    <tr>\n",
       "      <th>9999</th>\n",
       "      <td>False</td>\n",
       "    </tr>\n",
       "  </tbody>\n",
       "</table>\n",
       "<p>10000 rows × 1 columns</p>\n",
       "</div>"
      ],
      "text/plain": [
       "          0\n",
       "0     False\n",
       "1     False\n",
       "2      True\n",
       "3     False\n",
       "4     False\n",
       "...     ...\n",
       "9995  False\n",
       "9996  False\n",
       "9997   True\n",
       "9998  False\n",
       "9999  False\n",
       "\n",
       "[10000 rows x 1 columns]"
      ]
     },
     "execution_count": 167,
     "metadata": {},
     "output_type": "execute_result"
    }
   ],
   "source": [
    "compare = male<female\n",
    "compare"
   ]
  },
  {
   "cell_type": "code",
   "execution_count": 170,
   "id": "e5e7a8f0",
   "metadata": {},
   "outputs": [
    {
     "data": {
      "text/plain": [
       "0    0.2084\n",
       "dtype: float64"
      ]
     },
     "execution_count": 170,
     "metadata": {},
     "output_type": "execute_result"
    }
   ],
   "source": [
    "compare.sum() / 10000\n",
    "\n",
    "# 20.8% woman is taller than man"
   ]
  },
  {
   "cell_type": "markdown",
   "id": "2d511088",
   "metadata": {},
   "source": [
    "## 6. When installing anaconda on a student's computer, there's a 1 in 250 chance that the download is corrupted and the installation fails.\n",
    "#### a. What are the odds that after having 50 students download anaconda, no one has an installation issue? 100 students?"
   ]
  },
  {
   "cell_type": "code",
   "execution_count": 27,
   "id": "70f84b05",
   "metadata": {},
   "outputs": [
    {
     "data": {
      "text/plain": [
       "array([[0, 0, 0, ..., 0, 0, 0],\n",
       "       [0, 0, 0, ..., 0, 0, 0],\n",
       "       [0, 0, 0, ..., 0, 0, 0],\n",
       "       ...,\n",
       "       [0, 0, 0, ..., 0, 0, 0],\n",
       "       [0, 0, 0, ..., 0, 0, 0],\n",
       "       [0, 0, 0, ..., 0, 0, 0]])"
      ]
     },
     "execution_count": 27,
     "metadata": {},
     "output_type": "execute_result"
    }
   ],
   "source": [
    "# Using np.random.choice\n",
    "\n",
    "p_corrupted = 1/250\n",
    "nstudents = 50\n",
    "n_trails = 10_000\n",
    "\n",
    "dt = np.random.choice([0,1],p=[0.996, 0.004], size = (n_trails, nstudents))\n",
    "dt"
   ]
  },
  {
   "cell_type": "code",
   "execution_count": 28,
   "id": "07775ac4",
   "metadata": {},
   "outputs": [
    {
     "data": {
      "text/plain": [
       "0.8211"
      ]
     },
     "execution_count": 28,
     "metadata": {},
     "output_type": "execute_result"
    }
   ],
   "source": [
    "noissues = (dt.sum(axis=1)==0).mean()\n",
    "noissues\n",
    "\n",
    "# 82.1%"
   ]
  },
  {
   "cell_type": "code",
   "execution_count": 3,
   "id": "bb2473be",
   "metadata": {},
   "outputs": [
    {
     "data": {
      "text/plain": [
       "array([[0, 0, 0, ..., 0, 0, 0],\n",
       "       [0, 0, 0, ..., 0, 0, 0],\n",
       "       [0, 0, 0, ..., 0, 0, 0],\n",
       "       ...,\n",
       "       [0, 0, 0, ..., 0, 0, 0],\n",
       "       [0, 0, 0, ..., 0, 0, 0],\n",
       "       [0, 0, 0, ..., 0, 0, 0]])"
      ]
     },
     "execution_count": 3,
     "metadata": {},
     "output_type": "execute_result"
    }
   ],
   "source": [
    "# Using np.random.choice\n",
    "\n",
    "p_corrupted = 1/250\n",
    "nstudents = 100\n",
    "n_trails = 10_000\n",
    "\n",
    "dt = np.random.choice([0,1],p=[0.996, 0.004], size = (n_trails, nstudents))\n",
    "dt"
   ]
  },
  {
   "cell_type": "code",
   "execution_count": 4,
   "id": "dcf75019",
   "metadata": {},
   "outputs": [
    {
     "data": {
      "text/plain": [
       "0.6709"
      ]
     },
     "execution_count": 4,
     "metadata": {},
     "output_type": "execute_result"
    }
   ],
   "source": [
    "noissues = (dt.sum(axis=1)==0).mean()\n",
    "noissues\n",
    "\n",
    "# 67.1%"
   ]
  },
  {
   "cell_type": "markdown",
   "id": "a60118ef",
   "metadata": {},
   "source": [
    "#### b. What is the probability that we observe an installation issue within the first 150 students that download anaconda?"
   ]
  },
  {
   "cell_type": "code",
   "execution_count": 29,
   "id": "63de21dc",
   "metadata": {},
   "outputs": [
    {
     "data": {
      "text/plain": [
       "array([[0, 0, 0, ..., 0, 0, 0],\n",
       "       [0, 0, 0, ..., 0, 0, 0],\n",
       "       [0, 0, 0, ..., 0, 0, 0],\n",
       "       ...,\n",
       "       [0, 0, 0, ..., 0, 0, 0],\n",
       "       [0, 0, 0, ..., 0, 0, 0],\n",
       "       [0, 0, 0, ..., 0, 0, 0]])"
      ]
     },
     "execution_count": 29,
     "metadata": {},
     "output_type": "execute_result"
    }
   ],
   "source": [
    "p_corrupted = 1/250\n",
    "nstudents = 150\n",
    "n_trails = 10_000\n",
    "\n",
    "dt = np.random.choice([0,1],p=[0.996, 0.004], size = (n_trails, nstudents))\n",
    "dt"
   ]
  },
  {
   "cell_type": "code",
   "execution_count": 30,
   "id": "0badc4c3",
   "metadata": {},
   "outputs": [
    {
     "data": {
      "text/plain": [
       "0.4491"
      ]
     },
     "execution_count": 30,
     "metadata": {},
     "output_type": "execute_result"
    }
   ],
   "source": [
    "issue = (dt.sum(axis = 1)>=1).mean()\n",
    "issue\n",
    "\n",
    "# 44.9%"
   ]
  },
  {
   "cell_type": "markdown",
   "id": "5fda0cf5",
   "metadata": {},
   "source": [
    "#### c. How likely is it that 450 students all download anaconda without an issue?"
   ]
  },
  {
   "cell_type": "code",
   "execution_count": 8,
   "id": "246e2160",
   "metadata": {},
   "outputs": [
    {
     "data": {
      "text/plain": [
       "array([[0, 0, 0, ..., 0, 0, 0],\n",
       "       [0, 0, 0, ..., 1, 0, 0],\n",
       "       [0, 0, 0, ..., 0, 0, 0],\n",
       "       ...,\n",
       "       [0, 0, 0, ..., 0, 0, 0],\n",
       "       [0, 0, 0, ..., 0, 0, 0],\n",
       "       [0, 0, 0, ..., 0, 0, 0]])"
      ]
     },
     "execution_count": 8,
     "metadata": {},
     "output_type": "execute_result"
    }
   ],
   "source": [
    "p_corrupted = 1/250\n",
    "nstudents = 450\n",
    "n_trails = 10_000\n",
    "dt = np.random.choice([0,1],p=[0.996, 0.004], size = (n_trails, nstudents))\n",
    "dt"
   ]
  },
  {
   "cell_type": "code",
   "execution_count": 9,
   "id": "6153a1dd",
   "metadata": {},
   "outputs": [
    {
     "data": {
      "text/plain": [
       "0.1686"
      ]
     },
     "execution_count": 9,
     "metadata": {},
     "output_type": "execute_result"
    }
   ],
   "source": [
    "(dt.sum(axis = 1)==0).mean()\n",
    "\n",
    "# 16.9%"
   ]
  },
  {
   "cell_type": "markdown",
   "id": "61e518d0",
   "metadata": {},
   "source": [
    "## 7. There's a 70% chance on any given day that there will be at least one food truck at Travis Park.\n",
    "#### However, you haven't seen a food truck there in 3 days. How unlikely is this?"
   ]
  },
  {
   "cell_type": "code",
   "execution_count": 32,
   "id": "9f091f51",
   "metadata": {},
   "outputs": [],
   "source": [
    "trucks = np.random.choice([0,1], size=(10000,3), p= [0.3, 0.7])"
   ]
  },
  {
   "cell_type": "code",
   "execution_count": 33,
   "id": "9daf4ada",
   "metadata": {},
   "outputs": [
    {
     "data": {
      "text/plain": [
       "0.0265"
      ]
     },
     "execution_count": 33,
     "metadata": {},
     "output_type": "execute_result"
    }
   ],
   "source": [
    "(trucks.sum(axis=1)==0).mean()\n",
    "\n",
    "# 2.6% to not see a food truck in 3 days"
   ]
  },
  {
   "cell_type": "markdown",
   "id": "3860cfdd",
   "metadata": {},
   "source": [
    "#### How likely is it that a food truck will show up sometime this week?"
   ]
  },
  {
   "cell_type": "code",
   "execution_count": 34,
   "id": "c814c425",
   "metadata": {},
   "outputs": [],
   "source": [
    "food = np.random.choice([0,1], size=(10000,2), p= [0.3, 0.7])"
   ]
  },
  {
   "cell_type": "code",
   "execution_count": 35,
   "id": "d42f069a",
   "metadata": {},
   "outputs": [
    {
     "data": {
      "text/plain": [
       "0.9114"
      ]
     },
     "execution_count": 35,
     "metadata": {},
     "output_type": "execute_result"
    }
   ],
   "source": [
    "(food.sum(axis=1)>=1).mean()\n",
    "\n",
    "# 91%"
   ]
  },
  {
   "cell_type": "markdown",
   "id": "0c39abaa",
   "metadata": {},
   "source": [
    "## 8. If 23 people are in the same room, what are the odds that two of them share a birthday? "
   ]
  },
  {
   "cell_type": "code",
   "execution_count": 10,
   "id": "be70ea25",
   "metadata": {},
   "outputs": [
    {
     "data": {
      "text/plain": [
       "array([[244, 213, 185, ..., 335, 307, 222],\n",
       "       [212, 288, 362, ...,  75, 280,  99],\n",
       "       [300, 206, 235, ..., 179, 217, 157],\n",
       "       ...,\n",
       "       [ 29, 353, 255, ..., 364, 132, 354],\n",
       "       [ 54, 255, 147, ..., 340, 287, 318],\n",
       "       [ 15,  95, 332, ..., 159, 327, 277]], dtype=int32)"
      ]
     },
     "execution_count": 10,
     "metadata": {},
     "output_type": "execute_result"
    }
   ],
   "source": [
    "# Using dataframe\n",
    "\n",
    "people = np.random.uniform(1, 366, size = (10_000, 23)).astype(np.int32)\n",
    "people"
   ]
  },
  {
   "cell_type": "code",
   "execution_count": 11,
   "id": "35d4d9c7",
   "metadata": {},
   "outputs": [
    {
     "data": {
      "text/html": [
       "<div>\n",
       "<style scoped>\n",
       "    .dataframe tbody tr th:only-of-type {\n",
       "        vertical-align: middle;\n",
       "    }\n",
       "\n",
       "    .dataframe tbody tr th {\n",
       "        vertical-align: top;\n",
       "    }\n",
       "\n",
       "    .dataframe thead th {\n",
       "        text-align: right;\n",
       "    }\n",
       "</style>\n",
       "<table border=\"1\" class=\"dataframe\">\n",
       "  <thead>\n",
       "    <tr style=\"text-align: right;\">\n",
       "      <th></th>\n",
       "      <th>0</th>\n",
       "      <th>1</th>\n",
       "      <th>2</th>\n",
       "      <th>3</th>\n",
       "      <th>4</th>\n",
       "      <th>5</th>\n",
       "      <th>6</th>\n",
       "      <th>7</th>\n",
       "      <th>8</th>\n",
       "      <th>9</th>\n",
       "      <th>...</th>\n",
       "      <th>13</th>\n",
       "      <th>14</th>\n",
       "      <th>15</th>\n",
       "      <th>16</th>\n",
       "      <th>17</th>\n",
       "      <th>18</th>\n",
       "      <th>19</th>\n",
       "      <th>20</th>\n",
       "      <th>21</th>\n",
       "      <th>22</th>\n",
       "    </tr>\n",
       "  </thead>\n",
       "  <tbody>\n",
       "    <tr>\n",
       "      <th>0</th>\n",
       "      <td>244</td>\n",
       "      <td>213</td>\n",
       "      <td>185</td>\n",
       "      <td>222</td>\n",
       "      <td>288</td>\n",
       "      <td>144</td>\n",
       "      <td>127</td>\n",
       "      <td>163</td>\n",
       "      <td>346</td>\n",
       "      <td>113</td>\n",
       "      <td>...</td>\n",
       "      <td>291</td>\n",
       "      <td>52</td>\n",
       "      <td>10</td>\n",
       "      <td>317</td>\n",
       "      <td>350</td>\n",
       "      <td>3</td>\n",
       "      <td>117</td>\n",
       "      <td>335</td>\n",
       "      <td>307</td>\n",
       "      <td>222</td>\n",
       "    </tr>\n",
       "    <tr>\n",
       "      <th>1</th>\n",
       "      <td>212</td>\n",
       "      <td>288</td>\n",
       "      <td>362</td>\n",
       "      <td>236</td>\n",
       "      <td>319</td>\n",
       "      <td>202</td>\n",
       "      <td>292</td>\n",
       "      <td>181</td>\n",
       "      <td>113</td>\n",
       "      <td>277</td>\n",
       "      <td>...</td>\n",
       "      <td>120</td>\n",
       "      <td>137</td>\n",
       "      <td>20</td>\n",
       "      <td>133</td>\n",
       "      <td>92</td>\n",
       "      <td>26</td>\n",
       "      <td>95</td>\n",
       "      <td>75</td>\n",
       "      <td>280</td>\n",
       "      <td>99</td>\n",
       "    </tr>\n",
       "    <tr>\n",
       "      <th>2</th>\n",
       "      <td>300</td>\n",
       "      <td>206</td>\n",
       "      <td>235</td>\n",
       "      <td>323</td>\n",
       "      <td>304</td>\n",
       "      <td>359</td>\n",
       "      <td>235</td>\n",
       "      <td>224</td>\n",
       "      <td>161</td>\n",
       "      <td>101</td>\n",
       "      <td>...</td>\n",
       "      <td>10</td>\n",
       "      <td>229</td>\n",
       "      <td>308</td>\n",
       "      <td>37</td>\n",
       "      <td>104</td>\n",
       "      <td>230</td>\n",
       "      <td>62</td>\n",
       "      <td>179</td>\n",
       "      <td>217</td>\n",
       "      <td>157</td>\n",
       "    </tr>\n",
       "    <tr>\n",
       "      <th>3</th>\n",
       "      <td>329</td>\n",
       "      <td>47</td>\n",
       "      <td>26</td>\n",
       "      <td>278</td>\n",
       "      <td>167</td>\n",
       "      <td>34</td>\n",
       "      <td>308</td>\n",
       "      <td>65</td>\n",
       "      <td>43</td>\n",
       "      <td>322</td>\n",
       "      <td>...</td>\n",
       "      <td>360</td>\n",
       "      <td>307</td>\n",
       "      <td>175</td>\n",
       "      <td>184</td>\n",
       "      <td>313</td>\n",
       "      <td>148</td>\n",
       "      <td>56</td>\n",
       "      <td>276</td>\n",
       "      <td>350</td>\n",
       "      <td>279</td>\n",
       "    </tr>\n",
       "    <tr>\n",
       "      <th>4</th>\n",
       "      <td>142</td>\n",
       "      <td>183</td>\n",
       "      <td>81</td>\n",
       "      <td>18</td>\n",
       "      <td>162</td>\n",
       "      <td>30</td>\n",
       "      <td>9</td>\n",
       "      <td>203</td>\n",
       "      <td>166</td>\n",
       "      <td>108</td>\n",
       "      <td>...</td>\n",
       "      <td>112</td>\n",
       "      <td>33</td>\n",
       "      <td>334</td>\n",
       "      <td>323</td>\n",
       "      <td>38</td>\n",
       "      <td>158</td>\n",
       "      <td>235</td>\n",
       "      <td>327</td>\n",
       "      <td>50</td>\n",
       "      <td>244</td>\n",
       "    </tr>\n",
       "    <tr>\n",
       "      <th>...</th>\n",
       "      <td>...</td>\n",
       "      <td>...</td>\n",
       "      <td>...</td>\n",
       "      <td>...</td>\n",
       "      <td>...</td>\n",
       "      <td>...</td>\n",
       "      <td>...</td>\n",
       "      <td>...</td>\n",
       "      <td>...</td>\n",
       "      <td>...</td>\n",
       "      <td>...</td>\n",
       "      <td>...</td>\n",
       "      <td>...</td>\n",
       "      <td>...</td>\n",
       "      <td>...</td>\n",
       "      <td>...</td>\n",
       "      <td>...</td>\n",
       "      <td>...</td>\n",
       "      <td>...</td>\n",
       "      <td>...</td>\n",
       "      <td>...</td>\n",
       "    </tr>\n",
       "    <tr>\n",
       "      <th>9995</th>\n",
       "      <td>261</td>\n",
       "      <td>131</td>\n",
       "      <td>56</td>\n",
       "      <td>183</td>\n",
       "      <td>62</td>\n",
       "      <td>122</td>\n",
       "      <td>338</td>\n",
       "      <td>78</td>\n",
       "      <td>147</td>\n",
       "      <td>40</td>\n",
       "      <td>...</td>\n",
       "      <td>56</td>\n",
       "      <td>201</td>\n",
       "      <td>39</td>\n",
       "      <td>329</td>\n",
       "      <td>313</td>\n",
       "      <td>57</td>\n",
       "      <td>54</td>\n",
       "      <td>134</td>\n",
       "      <td>297</td>\n",
       "      <td>107</td>\n",
       "    </tr>\n",
       "    <tr>\n",
       "      <th>9996</th>\n",
       "      <td>27</td>\n",
       "      <td>254</td>\n",
       "      <td>175</td>\n",
       "      <td>164</td>\n",
       "      <td>262</td>\n",
       "      <td>122</td>\n",
       "      <td>151</td>\n",
       "      <td>147</td>\n",
       "      <td>141</td>\n",
       "      <td>217</td>\n",
       "      <td>...</td>\n",
       "      <td>190</td>\n",
       "      <td>271</td>\n",
       "      <td>139</td>\n",
       "      <td>364</td>\n",
       "      <td>82</td>\n",
       "      <td>205</td>\n",
       "      <td>213</td>\n",
       "      <td>270</td>\n",
       "      <td>22</td>\n",
       "      <td>81</td>\n",
       "    </tr>\n",
       "    <tr>\n",
       "      <th>9997</th>\n",
       "      <td>29</td>\n",
       "      <td>353</td>\n",
       "      <td>255</td>\n",
       "      <td>175</td>\n",
       "      <td>175</td>\n",
       "      <td>307</td>\n",
       "      <td>139</td>\n",
       "      <td>15</td>\n",
       "      <td>278</td>\n",
       "      <td>329</td>\n",
       "      <td>...</td>\n",
       "      <td>20</td>\n",
       "      <td>276</td>\n",
       "      <td>244</td>\n",
       "      <td>35</td>\n",
       "      <td>64</td>\n",
       "      <td>28</td>\n",
       "      <td>199</td>\n",
       "      <td>364</td>\n",
       "      <td>132</td>\n",
       "      <td>354</td>\n",
       "    </tr>\n",
       "    <tr>\n",
       "      <th>9998</th>\n",
       "      <td>54</td>\n",
       "      <td>255</td>\n",
       "      <td>147</td>\n",
       "      <td>261</td>\n",
       "      <td>74</td>\n",
       "      <td>301</td>\n",
       "      <td>183</td>\n",
       "      <td>324</td>\n",
       "      <td>334</td>\n",
       "      <td>198</td>\n",
       "      <td>...</td>\n",
       "      <td>233</td>\n",
       "      <td>170</td>\n",
       "      <td>302</td>\n",
       "      <td>317</td>\n",
       "      <td>257</td>\n",
       "      <td>168</td>\n",
       "      <td>215</td>\n",
       "      <td>340</td>\n",
       "      <td>287</td>\n",
       "      <td>318</td>\n",
       "    </tr>\n",
       "    <tr>\n",
       "      <th>9999</th>\n",
       "      <td>15</td>\n",
       "      <td>95</td>\n",
       "      <td>332</td>\n",
       "      <td>10</td>\n",
       "      <td>51</td>\n",
       "      <td>270</td>\n",
       "      <td>223</td>\n",
       "      <td>346</td>\n",
       "      <td>239</td>\n",
       "      <td>101</td>\n",
       "      <td>...</td>\n",
       "      <td>36</td>\n",
       "      <td>282</td>\n",
       "      <td>142</td>\n",
       "      <td>210</td>\n",
       "      <td>137</td>\n",
       "      <td>109</td>\n",
       "      <td>105</td>\n",
       "      <td>159</td>\n",
       "      <td>327</td>\n",
       "      <td>277</td>\n",
       "    </tr>\n",
       "  </tbody>\n",
       "</table>\n",
       "<p>10000 rows × 23 columns</p>\n",
       "</div>"
      ],
      "text/plain": [
       "       0    1    2    3    4    5    6    7    8    9   ...   13   14   15  \\\n",
       "0     244  213  185  222  288  144  127  163  346  113  ...  291   52   10   \n",
       "1     212  288  362  236  319  202  292  181  113  277  ...  120  137   20   \n",
       "2     300  206  235  323  304  359  235  224  161  101  ...   10  229  308   \n",
       "3     329   47   26  278  167   34  308   65   43  322  ...  360  307  175   \n",
       "4     142  183   81   18  162   30    9  203  166  108  ...  112   33  334   \n",
       "...   ...  ...  ...  ...  ...  ...  ...  ...  ...  ...  ...  ...  ...  ...   \n",
       "9995  261  131   56  183   62  122  338   78  147   40  ...   56  201   39   \n",
       "9996   27  254  175  164  262  122  151  147  141  217  ...  190  271  139   \n",
       "9997   29  353  255  175  175  307  139   15  278  329  ...   20  276  244   \n",
       "9998   54  255  147  261   74  301  183  324  334  198  ...  233  170  302   \n",
       "9999   15   95  332   10   51  270  223  346  239  101  ...   36  282  142   \n",
       "\n",
       "       16   17   18   19   20   21   22  \n",
       "0     317  350    3  117  335  307  222  \n",
       "1     133   92   26   95   75  280   99  \n",
       "2      37  104  230   62  179  217  157  \n",
       "3     184  313  148   56  276  350  279  \n",
       "4     323   38  158  235  327   50  244  \n",
       "...   ...  ...  ...  ...  ...  ...  ...  \n",
       "9995  329  313   57   54  134  297  107  \n",
       "9996  364   82  205  213  270   22   81  \n",
       "9997   35   64   28  199  364  132  354  \n",
       "9998  317  257  168  215  340  287  318  \n",
       "9999  210  137  109  105  159  327  277  \n",
       "\n",
       "[10000 rows x 23 columns]"
      ]
     },
     "execution_count": 11,
     "metadata": {},
     "output_type": "execute_result"
    }
   ],
   "source": [
    "newppl=pd.DataFrame(people)\n",
    "newppl"
   ]
  },
  {
   "cell_type": "code",
   "execution_count": 12,
   "id": "3883a2f5",
   "metadata": {},
   "outputs": [
    {
     "data": {
      "text/plain": [
       "0       21\n",
       "1       23\n",
       "2       22\n",
       "3       23\n",
       "4       23\n",
       "        ..\n",
       "9995    22\n",
       "9996    23\n",
       "9997    22\n",
       "9998    23\n",
       "9999    23\n",
       "Length: 10000, dtype: int64"
      ]
     },
     "execution_count": 12,
     "metadata": {},
     "output_type": "execute_result"
    }
   ],
   "source": [
    "newppl=pd.DataFrame(people).nunique(axis=1)\n",
    "newppl"
   ]
  },
  {
   "cell_type": "code",
   "execution_count": 16,
   "id": "d0fa5bd0",
   "metadata": {},
   "outputs": [
    {
     "data": {
      "text/plain": [
       "0        True\n",
       "1       False\n",
       "2        True\n",
       "3       False\n",
       "4       False\n",
       "        ...  \n",
       "9995     True\n",
       "9996    False\n",
       "9997     True\n",
       "9998    False\n",
       "9999    False\n",
       "Length: 10000, dtype: bool"
      ]
     },
     "execution_count": 16,
     "metadata": {},
     "output_type": "execute_result"
    }
   ],
   "source": [
    "share_bd = newppl<23\n",
    "share_bd"
   ]
  },
  {
   "cell_type": "code",
   "execution_count": 18,
   "id": "4b59e858",
   "metadata": {},
   "outputs": [
    {
     "data": {
      "text/plain": [
       "50.99509950995099"
      ]
     },
     "execution_count": 18,
     "metadata": {},
     "output_type": "execute_result"
    }
   ],
   "source": [
    "share_bd.sum()/9999 * 100\n",
    "\n",
    "# 51%"
   ]
  },
  {
   "cell_type": "code",
   "execution_count": 145,
   "id": "1ca550ca",
   "metadata": {},
   "outputs": [],
   "source": [
    "# Using a function\n",
    "\n",
    "def contains_duplicates(X):\n",
    "    seen = set()\n",
    "    seen_add = seen.add\n",
    "    for x in X:\n",
    "        if (x in seen or seen_add(x)):\n",
    "            return True\n",
    "    return False"
   ]
  },
  {
   "cell_type": "code",
   "execution_count": 151,
   "id": "fa777871",
   "metadata": {},
   "outputs": [
    {
     "data": {
      "text/plain": [
       "0        True\n",
       "1        True\n",
       "2        True\n",
       "3       False\n",
       "4       False\n",
       "        ...  \n",
       "9995     True\n",
       "9996    False\n",
       "9997     True\n",
       "9998     True\n",
       "9999     True\n",
       "Length: 10000, dtype: bool"
      ]
     },
     "execution_count": 151,
     "metadata": {},
     "output_type": "execute_result"
    }
   ],
   "source": [
    "sharebd = pd.DataFrame(people).apply(contains_duplicates, axis = 1)\n",
    "sharebd"
   ]
  },
  {
   "cell_type": "code",
   "execution_count": 154,
   "id": "b9774b13",
   "metadata": {},
   "outputs": [
    {
     "data": {
      "text/plain": [
       "0.5021"
      ]
     },
     "execution_count": 154,
     "metadata": {},
     "output_type": "execute_result"
    }
   ],
   "source": [
    "(sharebd.sum()).mean()/10000\n",
    "\n",
    "# 50.2%"
   ]
  },
  {
   "cell_type": "markdown",
   "id": "41dc5b02",
   "metadata": {},
   "source": [
    "#### What if it's 20 people?"
   ]
  },
  {
   "cell_type": "code",
   "execution_count": 155,
   "id": "876213f0",
   "metadata": {},
   "outputs": [
    {
     "data": {
      "text/plain": [
       "0.4111"
      ]
     },
     "execution_count": 155,
     "metadata": {},
     "output_type": "execute_result"
    }
   ],
   "source": [
    "people = np.random.uniform(0, 366, size = (10_000, 20)).astype(np.int32)\n",
    "sharebd = pd.DataFrame(people).apply(contains_duplicates, axis = 1)\n",
    "(sharebd.sum()).mean()/10000\n",
    "\n",
    "# 41%"
   ]
  },
  {
   "cell_type": "markdown",
   "id": "9dc2365d",
   "metadata": {},
   "source": [
    "#### 40?"
   ]
  },
  {
   "cell_type": "code",
   "execution_count": 156,
   "id": "b602537a",
   "metadata": {},
   "outputs": [
    {
     "data": {
      "text/plain": [
       "0.8889"
      ]
     },
     "execution_count": 156,
     "metadata": {},
     "output_type": "execute_result"
    }
   ],
   "source": [
    "people = np.random.uniform(0, 366, size = (10_000, 40)).astype(np.int32)\n",
    "sharebd = pd.DataFrame(people).apply(contains_duplicates, axis = 1)\n",
    "(sharebd.sum()).mean()/10000"
   ]
  },
  {
   "cell_type": "markdown",
   "id": "a7c1193c",
   "metadata": {},
   "source": [
    "## Mage Duel\n",
    "\n",
    "Imagine your wizard has 6d4 health points and you have spells that do 6d4 damage. \"6d4\" means rolling six 4-sided dice and summing the result.\n",
    "\n",
    "Your opposing mage has 4d6 health points and spells that do 4d6. \"4d6\" means rolling four six-sided dice and summing the result."
   ]
  },
  {
   "cell_type": "markdown",
   "id": "b710b5ea",
   "metadata": {},
   "source": [
    "#### Simulate mage duels to answer who is the more powerful mage?\n"
   ]
  },
  {
   "cell_type": "markdown",
   "id": "c72016ef",
   "metadata": {},
   "source": [
    "#### Before running simulations, do you have a hypothesis of which mage will win? Do you have a hunch? Write it down. This is your first exercise."
   ]
  },
  {
   "cell_type": "code",
   "execution_count": 69,
   "id": "34ce4bc3",
   "metadata": {},
   "outputs": [
    {
     "data": {
      "text/plain": [
       "array([18, 16, 19, ..., 17, 15, 12])"
      ]
     },
     "execution_count": 69,
     "metadata": {},
     "output_type": "execute_result"
    }
   ],
   "source": [
    "n_trials = nrows = 10_000\n",
    "n_dice = ncols = 6\n",
    "\n",
    "wizard = np.random.choice([1, 2, 3, 4], size = (n_trials, n_dice))\n",
    "w_health = wizard.sum(axis=1)\n",
    "w_health"
   ]
  },
  {
   "cell_type": "code",
   "execution_count": 70,
   "id": "76f2f6ad",
   "metadata": {},
   "outputs": [
    {
     "data": {
      "text/plain": [
       "array([13, 10, 12, ...,  9, 15, 10])"
      ]
     },
     "execution_count": 70,
     "metadata": {},
     "output_type": "execute_result"
    }
   ],
   "source": [
    "n_trials = nrows = 10_000\n",
    "n_dice = ncols = 4\n",
    "opposing = np.random.choice([1, 2, 3, 4, 5, 6], size = (n_trials, n_dice))\n",
    "o_health = opposing.sum(axis=1)\n",
    "o_health"
   ]
  },
  {
   "cell_type": "code",
   "execution_count": 71,
   "id": "d0f2227e",
   "metadata": {},
   "outputs": [
    {
     "data": {
      "text/plain": [
       "0.5419"
      ]
     },
     "execution_count": 71,
     "metadata": {},
     "output_type": "execute_result"
    }
   ],
   "source": [
    "compare = (w_health-o_health) > (o_health-w_health)\n",
    "compare.sum()/10_000\n",
    "\n",
    "# 54.2% your wizard will have more health point left"
   ]
  },
  {
   "cell_type": "markdown",
   "id": "9e4bf70e",
   "metadata": {},
   "source": [
    "#### Simulate 10 mage duels. Is there a clear winner? Run that 10 duel simulation again. Was the answer similar?"
   ]
  },
  {
   "cell_type": "code",
   "execution_count": 78,
   "id": "27d80f89",
   "metadata": {},
   "outputs": [
    {
     "data": {
      "text/plain": [
       "array([17, 19, 16, 12, 13, 14, 16, 10, 14, 16])"
      ]
     },
     "execution_count": 78,
     "metadata": {},
     "output_type": "execute_result"
    }
   ],
   "source": [
    "n_trials = nrows = 10\n",
    "n_dice = ncols = 6\n",
    "\n",
    "wizard = np.random.choice([1, 2, 3, 4], size = (n_trials, n_dice))\n",
    "w_health = wizard.sum(axis=1)\n",
    "w_health"
   ]
  },
  {
   "cell_type": "code",
   "execution_count": 79,
   "id": "cbd57c1d",
   "metadata": {},
   "outputs": [
    {
     "data": {
      "text/plain": [
       "array([14, 11, 14, 14, 20,  9, 15, 12, 13, 16])"
      ]
     },
     "execution_count": 79,
     "metadata": {},
     "output_type": "execute_result"
    }
   ],
   "source": [
    "n_trials = nrows = 10\n",
    "n_dice = ncols = 4\n",
    "opposing = np.random.choice([1, 2, 3, 4, 5, 6], size = (n_trials, n_dice))\n",
    "o_health = opposing.sum(axis=1)\n",
    "o_health"
   ]
  },
  {
   "cell_type": "code",
   "execution_count": 80,
   "id": "7c35e41b",
   "metadata": {},
   "outputs": [
    {
     "data": {
      "text/plain": [
       "0.6"
      ]
     },
     "execution_count": 80,
     "metadata": {},
     "output_type": "execute_result"
    }
   ],
   "source": [
    "winner = (w_health-o_health) > (o_health-w_health) \n",
    "winner\n",
    "winner.sum()/10\n",
    "\n",
    "# answers: 70%, 50%, 50%, 60%"
   ]
  },
  {
   "cell_type": "markdown",
   "id": "5ae27e42",
   "metadata": {},
   "source": [
    "#### Do the results change much at 100 duels?"
   ]
  },
  {
   "cell_type": "markdown",
   "id": "b08c170b",
   "metadata": {},
   "source": [
    "#### Now, simulate 10,000 mage duels. Is there a clear winner?"
   ]
  }
 ],
 "metadata": {
  "kernelspec": {
   "display_name": "Python 3 (ipykernel)",
   "language": "python",
   "name": "python3"
  },
  "language_info": {
   "codemirror_mode": {
    "name": "ipython",
    "version": 3
   },
   "file_extension": ".py",
   "mimetype": "text/x-python",
   "name": "python",
   "nbconvert_exporter": "python",
   "pygments_lexer": "ipython3",
   "version": "3.9.12"
  }
 },
 "nbformat": 4,
 "nbformat_minor": 5
}
