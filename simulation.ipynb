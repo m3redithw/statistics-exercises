{
 "cells": [
  {
   "cell_type": "code",
   "execution_count": 2,
   "id": "f73f02d9",
   "metadata": {},
   "outputs": [],
   "source": [
    "import numpy as np\n",
    "import pandas as pd\n",
    "import matplotlib.pyplot as plt\n",
    "\n",
    "np.random.seed(69)"
   ]
  },
  {
   "cell_type": "markdown",
   "id": "4d7a50ed",
   "metadata": {},
   "source": [
    "## 1. How likely is it that you roll doubles when rolling two dice?"
   ]
  },
  {
   "cell_type": "code",
   "execution_count": 3,
   "id": "ccf5eff4",
   "metadata": {},
   "outputs": [
    {
     "data": {
      "text/plain": [
       "array([[4, 2],\n",
       "       [4, 3],\n",
       "       [5, 2],\n",
       "       ...,\n",
       "       [2, 4],\n",
       "       [2, 4],\n",
       "       [2, 1]])"
      ]
     },
     "execution_count": 3,
     "metadata": {},
     "output_type": "execute_result"
    }
   ],
   "source": [
    "n_trials = nrows = 10_000\n",
    "n_dice = ncols = 2\n",
    "\n",
    "rolls = np.random.choice([1, 2, 3, 4, 5, 6], size = (n_trials, n_dice))\n",
    "rolls"
   ]
  },
  {
   "cell_type": "code",
   "execution_count": 4,
   "id": "2a705818",
   "metadata": {},
   "outputs": [
    {
     "data": {
      "text/html": [
       "<div>\n",
       "<style scoped>\n",
       "    .dataframe tbody tr th:only-of-type {\n",
       "        vertical-align: middle;\n",
       "    }\n",
       "\n",
       "    .dataframe tbody tr th {\n",
       "        vertical-align: top;\n",
       "    }\n",
       "\n",
       "    .dataframe thead th {\n",
       "        text-align: right;\n",
       "    }\n",
       "</style>\n",
       "<table border=\"1\" class=\"dataframe\">\n",
       "  <thead>\n",
       "    <tr style=\"text-align: right;\">\n",
       "      <th></th>\n",
       "      <th>0</th>\n",
       "      <th>1</th>\n",
       "    </tr>\n",
       "  </thead>\n",
       "  <tbody>\n",
       "    <tr>\n",
       "      <th>0</th>\n",
       "      <td>4</td>\n",
       "      <td>2</td>\n",
       "    </tr>\n",
       "    <tr>\n",
       "      <th>1</th>\n",
       "      <td>4</td>\n",
       "      <td>3</td>\n",
       "    </tr>\n",
       "    <tr>\n",
       "      <th>2</th>\n",
       "      <td>5</td>\n",
       "      <td>2</td>\n",
       "    </tr>\n",
       "    <tr>\n",
       "      <th>3</th>\n",
       "      <td>2</td>\n",
       "      <td>1</td>\n",
       "    </tr>\n",
       "    <tr>\n",
       "      <th>4</th>\n",
       "      <td>2</td>\n",
       "      <td>1</td>\n",
       "    </tr>\n",
       "    <tr>\n",
       "      <th>...</th>\n",
       "      <td>...</td>\n",
       "      <td>...</td>\n",
       "    </tr>\n",
       "    <tr>\n",
       "      <th>9995</th>\n",
       "      <td>1</td>\n",
       "      <td>2</td>\n",
       "    </tr>\n",
       "    <tr>\n",
       "      <th>9996</th>\n",
       "      <td>2</td>\n",
       "      <td>2</td>\n",
       "    </tr>\n",
       "    <tr>\n",
       "      <th>9997</th>\n",
       "      <td>2</td>\n",
       "      <td>4</td>\n",
       "    </tr>\n",
       "    <tr>\n",
       "      <th>9998</th>\n",
       "      <td>2</td>\n",
       "      <td>4</td>\n",
       "    </tr>\n",
       "    <tr>\n",
       "      <th>9999</th>\n",
       "      <td>2</td>\n",
       "      <td>1</td>\n",
       "    </tr>\n",
       "  </tbody>\n",
       "</table>\n",
       "<p>10000 rows × 2 columns</p>\n",
       "</div>"
      ],
      "text/plain": [
       "      0  1\n",
       "0     4  2\n",
       "1     4  3\n",
       "2     5  2\n",
       "3     2  1\n",
       "4     2  1\n",
       "...  .. ..\n",
       "9995  1  2\n",
       "9996  2  2\n",
       "9997  2  4\n",
       "9998  2  4\n",
       "9999  2  1\n",
       "\n",
       "[10000 rows x 2 columns]"
      ]
     },
     "execution_count": 4,
     "metadata": {},
     "output_type": "execute_result"
    }
   ],
   "source": [
    "pd.DataFrame(rolls)"
   ]
  },
  {
   "cell_type": "code",
   "execution_count": 8,
   "id": "92886679",
   "metadata": {},
   "outputs": [
    {
     "data": {
      "text/plain": [
       "0.1666"
      ]
     },
     "execution_count": 8,
     "metadata": {},
     "output_type": "execute_result"
    }
   ],
   "source": [
    "pd.DataFrame(rolls).apply(lambda row: row.values[0] == row.values[1], axis = 1).mean()\n",
    "\n",
    "# 16.6% to roll doubles when rolling two dice"
   ]
  },
  {
   "cell_type": "markdown",
   "id": "69c89f3d",
   "metadata": {},
   "source": [
    "## 2. If you flip 8 coins, what is the probability of getting exactly 3 heads? What is the probability of getting more than 3 heads?"
   ]
  },
  {
   "cell_type": "code",
   "execution_count": 24,
   "id": "e1b7661d",
   "metadata": {},
   "outputs": [
    {
     "data": {
      "text/plain": [
       "array([[0, 1, 1, ..., 0, 0, 1],\n",
       "       [0, 1, 1, ..., 0, 1, 1],\n",
       "       [0, 1, 0, ..., 0, 0, 1],\n",
       "       ...,\n",
       "       [1, 0, 0, ..., 1, 0, 1],\n",
       "       [0, 0, 0, ..., 0, 0, 1],\n",
       "       [1, 0, 1, ..., 0, 1, 1]])"
      ]
     },
     "execution_count": 24,
     "metadata": {},
     "output_type": "execute_result"
    }
   ],
   "source": [
    "# method 1\n",
    "n_trails = nrows = 10_000\n",
    "n_flip = ncols = 8\n",
    "\n",
    "coins = np.random.choice([0,1], size= (n_trails, n_flip))\n",
    "coins"
   ]
  },
  {
   "cell_type": "code",
   "execution_count": 27,
   "id": "b7865622",
   "metadata": {},
   "outputs": [
    {
     "data": {
      "text/plain": [
       "0.2141"
      ]
     },
     "execution_count": 27,
     "metadata": {},
     "output_type": "execute_result"
    }
   ],
   "source": [
    "(coins.sum(axis=1) == 3).mean()\n",
    "\n",
    "# 21.4% to get exactly 3 heads"
   ]
  },
  {
   "cell_type": "code",
   "execution_count": 33,
   "id": "79be6f02",
   "metadata": {},
   "outputs": [
    {
     "data": {
      "text/plain": [
       "0.6454"
      ]
     },
     "execution_count": 33,
     "metadata": {},
     "output_type": "execute_result"
    }
   ],
   "source": [
    "(coins.sum(axis=1) > 3).mean()\n",
    "\n",
    "# 64.5% to get more than 3 heads"
   ]
  },
  {
   "cell_type": "code",
   "execution_count": 23,
   "id": "3a434125",
   "metadata": {},
   "outputs": [
    {
     "data": {
      "text/plain": [
       "0.2217"
      ]
     },
     "execution_count": 23,
     "metadata": {},
     "output_type": "execute_result"
    }
   ],
   "source": [
    "# method 2\n",
    "n_trails = nrows = 10_000\n",
    "n_flip = ncols = 8\n",
    "\n",
    "coins = np.random.choice(['head','tail'], size= (n_trails, n_flip))\n",
    "coins\n",
    "(pd.DataFrame(coins).apply(counthead,axis=1)==3).mean()"
   ]
  },
  {
   "cell_type": "code",
   "execution_count": 14,
   "id": "20fb704f",
   "metadata": {},
   "outputs": [],
   "source": [
    "def counthead(row):\n",
    "    count = 0\n",
    "    for x in range(0,8):\n",
    "        if row[x] =='head':\n",
    "            count +=1\n",
    "    return count"
   ]
  },
  {
   "cell_type": "code",
   "execution_count": 29,
   "id": "dc3f0216",
   "metadata": {},
   "outputs": [
    {
     "data": {
      "text/plain": [
       "0       False\n",
       "1       False\n",
       "2       False\n",
       "3       False\n",
       "4        True\n",
       "        ...  \n",
       "9995     True\n",
       "9996     True\n",
       "9997     True\n",
       "9998    False\n",
       "9999    False\n",
       "Length: 10000, dtype: bool"
      ]
     },
     "execution_count": 29,
     "metadata": {},
     "output_type": "execute_result"
    }
   ],
   "source": [
    "# method 3 - using lambda function\n",
    "pd.DataFrame(coins).apply(lambda row: row.values.sum()==3, axis=1)"
   ]
  },
  {
   "cell_type": "markdown",
   "id": "1e328514",
   "metadata": {},
   "source": [
    "## 3. There are approximitely 3 web development cohorts for every 1 data science cohort at Codeup. Assuming that Codeup randomly selects an alumni to put on a billboard, what are the odds that the two billboards I drive past both have data science students on them?"
   ]
  },
  {
   "cell_type": "code",
   "execution_count": 31,
   "id": "b69dff52",
   "metadata": {},
   "outputs": [
    {
     "data": {
      "text/plain": [
       "array([[0, 0],\n",
       "       [0, 0],\n",
       "       [0, 0],\n",
       "       ...,\n",
       "       [1, 1],\n",
       "       [1, 0],\n",
       "       [0, 0]])"
      ]
     },
     "execution_count": 31,
     "metadata": {},
     "output_type": "execute_result"
    }
   ],
   "source": [
    "# 0 = Web development cohort\n",
    "# 1 = data science cohort\n",
    "\n",
    "n_trails = nrows = 10_000\n",
    "n_flip = ncols = 2\n",
    "cohort = np.random.choice([0,0,0,1], size=(n_trails, n_flip))\n",
    "cohort"
   ]
  },
  {
   "cell_type": "code",
   "execution_count": 32,
   "id": "b9514513",
   "metadata": {},
   "outputs": [
    {
     "data": {
      "text/plain": [
       "0.0646"
      ]
     },
     "execution_count": 32,
     "metadata": {},
     "output_type": "execute_result"
    }
   ],
   "source": [
    "(cohort.sum(axis=1)==2).mean()\n",
    "\n",
    "# 6.5% to drive past both have data science student"
   ]
  },
  {
   "cell_type": "markdown",
   "id": "c617d7f7",
   "metadata": {},
   "source": [
    "## 4. Codeup students buy, on average, 3 poptart packages with a standard deviation of 1.5 a day from the snack vending machine. If on monday the machine is restocked with 17 poptart packages, how likely is it that I will be able to buy some poptarts on Friday afternoon? (Remember, if you have mean and standard deviation, use the np.random.normal) You'll need to make a judgement call on how to handle some of your values\n",
    "- `np.random.normal`: generates numbers from a normal distribution with a specified mean and standard deviation"
   ]
  },
  {
   "cell_type": "code",
   "execution_count": 55,
   "id": "048861fa",
   "metadata": {},
   "outputs": [
    {
     "data": {
      "text/plain": [
       "array([[0.94023965, 1.54737152, 0.92380386, 2.62678278],\n",
       "       [1.97109208, 1.99150654, 2.52983251, 0.98007653],\n",
       "       [3.03565419, 1.67375296, 4.19678909, 2.81518052],\n",
       "       ...,\n",
       "       [3.59870923, 2.06507432, 3.88815815, 2.31008149],\n",
       "       [4.95851636, 2.81947826, 0.61217456, 4.98921801],\n",
       "       [1.65979459, 6.63601868, 1.11419101, 2.8716704 ]])"
      ]
     },
     "execution_count": 55,
     "metadata": {},
     "output_type": "execute_result"
    }
   ],
   "source": [
    "# avg = 3 poptarts/day; std = 1.5\n",
    "poptarts = np.random.normal(3, 1.5, (10_000, 4))\n",
    "poptarts"
   ]
  },
  {
   "cell_type": "code",
   "execution_count": 56,
   "id": "cf07140f",
   "metadata": {},
   "outputs": [
    {
     "data": {
      "text/plain": [
       "0.906"
      ]
     },
     "execution_count": 56,
     "metadata": {},
     "output_type": "execute_result"
    }
   ],
   "source": [
    "(poptarts.sum(axis = 1)<16).mean()\n",
    "\n",
    "# 90.6% will have poptarts at Friday afternoon"
   ]
  },
  {
   "cell_type": "code",
   "execution_count": 171,
   "id": "af70a580",
   "metadata": {},
   "outputs": [],
   "source": [
    "poptarts = np.random.normal(3, 1.5, (10_000,5))\n",
    "hungry = pd.DataFrame(poptarts)"
   ]
  },
  {
   "cell_type": "code",
   "execution_count": 174,
   "id": "49264705",
   "metadata": {},
   "outputs": [
    {
     "data": {
      "text/plain": [
       "0.7181"
      ]
     },
     "execution_count": 174,
     "metadata": {},
     "output_type": "execute_result"
    }
   ],
   "source": [
    "hungry.apply(lambda row: row.values.sum()<=17, axis = 1).mean()"
   ]
  },
  {
   "cell_type": "markdown",
   "id": "f6b5ec29",
   "metadata": {},
   "source": [
    "## 5. Compare Heights\n",
    "\n",
    "#### Men have an average height of 178 cm and standard deviation of 8cm.\n",
    "#### Women have a mean of 170, sd = 6cm.\n",
    "#### Since you have means and standard deviations, you can use np.random.normal to generate observations.\n",
    "#### If a man and woman are chosen at random, what is the likelihood the woman is taller than the man?"
   ]
  },
  {
   "cell_type": "code",
   "execution_count": 77,
   "id": "08512e62",
   "metadata": {},
   "outputs": [],
   "source": [
    "# mavg = 178, mstd = 8\n",
    "# favg = 170, fstd = 6\n",
    "male = pd.DataFrame(np.random.normal(178, 8, size=(10000, 1)))\n",
    "female = pd.DataFrame(np.random.normal(170, 6, size=(10000, 1)))\n"
   ]
  },
  {
   "cell_type": "code",
   "execution_count": 167,
   "id": "c973b790",
   "metadata": {},
   "outputs": [
    {
     "data": {
      "text/html": [
       "<div>\n",
       "<style scoped>\n",
       "    .dataframe tbody tr th:only-of-type {\n",
       "        vertical-align: middle;\n",
       "    }\n",
       "\n",
       "    .dataframe tbody tr th {\n",
       "        vertical-align: top;\n",
       "    }\n",
       "\n",
       "    .dataframe thead th {\n",
       "        text-align: right;\n",
       "    }\n",
       "</style>\n",
       "<table border=\"1\" class=\"dataframe\">\n",
       "  <thead>\n",
       "    <tr style=\"text-align: right;\">\n",
       "      <th></th>\n",
       "      <th>0</th>\n",
       "    </tr>\n",
       "  </thead>\n",
       "  <tbody>\n",
       "    <tr>\n",
       "      <th>0</th>\n",
       "      <td>False</td>\n",
       "    </tr>\n",
       "    <tr>\n",
       "      <th>1</th>\n",
       "      <td>False</td>\n",
       "    </tr>\n",
       "    <tr>\n",
       "      <th>2</th>\n",
       "      <td>True</td>\n",
       "    </tr>\n",
       "    <tr>\n",
       "      <th>3</th>\n",
       "      <td>False</td>\n",
       "    </tr>\n",
       "    <tr>\n",
       "      <th>4</th>\n",
       "      <td>False</td>\n",
       "    </tr>\n",
       "    <tr>\n",
       "      <th>...</th>\n",
       "      <td>...</td>\n",
       "    </tr>\n",
       "    <tr>\n",
       "      <th>9995</th>\n",
       "      <td>False</td>\n",
       "    </tr>\n",
       "    <tr>\n",
       "      <th>9996</th>\n",
       "      <td>False</td>\n",
       "    </tr>\n",
       "    <tr>\n",
       "      <th>9997</th>\n",
       "      <td>True</td>\n",
       "    </tr>\n",
       "    <tr>\n",
       "      <th>9998</th>\n",
       "      <td>False</td>\n",
       "    </tr>\n",
       "    <tr>\n",
       "      <th>9999</th>\n",
       "      <td>False</td>\n",
       "    </tr>\n",
       "  </tbody>\n",
       "</table>\n",
       "<p>10000 rows × 1 columns</p>\n",
       "</div>"
      ],
      "text/plain": [
       "          0\n",
       "0     False\n",
       "1     False\n",
       "2      True\n",
       "3     False\n",
       "4     False\n",
       "...     ...\n",
       "9995  False\n",
       "9996  False\n",
       "9997   True\n",
       "9998  False\n",
       "9999  False\n",
       "\n",
       "[10000 rows x 1 columns]"
      ]
     },
     "execution_count": 167,
     "metadata": {},
     "output_type": "execute_result"
    }
   ],
   "source": [
    "compare = male<female\n",
    "compare"
   ]
  },
  {
   "cell_type": "code",
   "execution_count": 170,
   "id": "2373f663",
   "metadata": {},
   "outputs": [
    {
     "data": {
      "text/plain": [
       "0    0.2084\n",
       "dtype: float64"
      ]
     },
     "execution_count": 170,
     "metadata": {},
     "output_type": "execute_result"
    }
   ],
   "source": [
    "compare.sum() / 10000\n",
    "\n",
    "# 20.8% woman is taller than man"
   ]
  },
  {
   "cell_type": "markdown",
   "id": "65150447",
   "metadata": {},
   "source": [
    "## 6. When installing anaconda on a student's computer, there's a 1 in 250 chance that the download is corrupted and the installation fails.\n",
    "#### a. What are the odds that after having 50 students download anaconda, no one has an installation issue? 100 students?"
   ]
  },
  {
   "cell_type": "code",
   "execution_count": 176,
   "id": "d7cf8052",
   "metadata": {},
   "outputs": [
    {
     "data": {
      "text/plain": [
       "array([[0.25067118, 0.45482931, 0.67501045, ..., 0.64410802, 0.68166964,\n",
       "        0.53915709],\n",
       "       [0.17076358, 0.59644655, 0.42197261, ..., 0.5900433 , 0.40674694,\n",
       "        0.02893866],\n",
       "       [0.77255302, 0.5028885 , 0.27758985, ..., 0.19787559, 0.78303895,\n",
       "        0.28503257],\n",
       "       ...,\n",
       "       [0.10068058, 0.94319517, 0.30688897, ..., 0.38844208, 0.6096441 ,\n",
       "        0.23940465],\n",
       "       [0.38217502, 0.28137467, 0.0732007 , ..., 0.59929693, 0.61355369,\n",
       "        0.93385197],\n",
       "       [0.81360654, 0.42383803, 0.93231252, ..., 0.40280028, 0.18583774,\n",
       "        0.26343396]])"
      ]
     },
     "execution_count": 176,
     "metadata": {},
     "output_type": "execute_result"
    }
   ],
   "source": [
    "p_corrupted = 1/250\n",
    "nstudents = 50\n",
    "n_trails = 10_000\n",
    "data = np.random.random(size = (n_trails, nstudents))\n",
    "data"
   ]
  },
  {
   "cell_type": "code",
   "execution_count": 97,
   "id": "8eb38987",
   "metadata": {},
   "outputs": [
    {
     "data": {
      "text/plain": [
       "0.004"
      ]
     },
     "execution_count": 97,
     "metadata": {},
     "output_type": "execute_result"
    }
   ],
   "source": [
    "1/250"
   ]
  },
  {
   "cell_type": "code",
   "execution_count": 104,
   "id": "7195a037",
   "metadata": {},
   "outputs": [
    {
     "data": {
      "text/plain": [
       "array([[False, False, False, ..., False, False, False],\n",
       "       [False, False, False, ..., False, False, False],\n",
       "       [False, False, False, ..., False, False, False],\n",
       "       ...,\n",
       "       [False, False, False, ..., False, False, False],\n",
       "       [False, False, False, ..., False, False, False],\n",
       "       [False, False, False, ..., False, False, False]])"
      ]
     },
     "execution_count": 104,
     "metadata": {},
     "output_type": "execute_result"
    }
   ],
   "source": [
    "issues = data < p_corrupted\n",
    "issues"
   ]
  },
  {
   "cell_type": "code",
   "execution_count": 105,
   "id": "4cba2507",
   "metadata": {},
   "outputs": [
    {
     "data": {
      "text/plain": [
       "0.8099"
      ]
     },
     "execution_count": 105,
     "metadata": {},
     "output_type": "execute_result"
    }
   ],
   "source": [
    "(issues.sum(axis = 1)==0).mean()\n",
    "\n",
    "# 90% no one has installation issues"
   ]
  },
  {
   "cell_type": "code",
   "execution_count": 183,
   "id": "4cd7a638",
   "metadata": {},
   "outputs": [
    {
     "data": {
      "text/plain": [
       "array([[0, 0, 0, ..., 0, 0, 0],\n",
       "       [0, 0, 0, ..., 0, 0, 0],\n",
       "       [0, 0, 0, ..., 0, 0, 0],\n",
       "       ...,\n",
       "       [0, 0, 0, ..., 0, 0, 0],\n",
       "       [0, 0, 0, ..., 0, 0, 0],\n",
       "       [0, 0, 0, ..., 0, 0, 0]])"
      ]
     },
     "execution_count": 183,
     "metadata": {},
     "output_type": "execute_result"
    }
   ],
   "source": [
    "# Using np.random.choice\n",
    "\n",
    "dt = np.random.choice([0,1],p=[0.996, 0.004], size = (n_trails, nstudents))\n",
    "dt"
   ]
  },
  {
   "cell_type": "code",
   "execution_count": 182,
   "id": "0a88a755",
   "metadata": {},
   "outputs": [
    {
     "data": {
      "text/plain": [
       "0.2042"
      ]
     },
     "execution_count": 182,
     "metadata": {},
     "output_type": "execute_result"
    }
   ],
   "source": [
    "noissues = dt.sum(axis=1).mean()\n",
    "noissues"
   ]
  },
  {
   "cell_type": "code",
   "execution_count": 106,
   "id": "ea1cf6ef",
   "metadata": {},
   "outputs": [
    {
     "data": {
      "text/plain": [
       "array([[0.25461953, 0.82216057, 0.73381185, ..., 0.9386115 , 0.12475172,\n",
       "        0.58225353],\n",
       "       [0.15793089, 0.18008194, 0.77231616, ..., 0.6243313 , 0.80091793,\n",
       "        0.11649688],\n",
       "       [0.76740778, 0.96846861, 0.44808038, ..., 0.71207643, 0.40088515,\n",
       "        0.34206653],\n",
       "       ...,\n",
       "       [0.00922345, 0.65920629, 0.11198205, ..., 0.46645072, 0.70933596,\n",
       "        0.28268712],\n",
       "       [0.74460991, 0.19181576, 0.74788782, ..., 0.90262983, 0.70727326,\n",
       "        0.67327224],\n",
       "       [0.36155889, 0.70145535, 0.04606351, ..., 0.92863824, 0.34744474,\n",
       "        0.1927192 ]])"
      ]
     },
     "execution_count": 106,
     "metadata": {},
     "output_type": "execute_result"
    }
   ],
   "source": [
    "# 100 students\n",
    "\n",
    "p_corrupted = 1/250\n",
    "nstudents = 100\n",
    "n_trails = 10_000\n",
    "data = np.random.random(size = (n_trails, nstudents))\n",
    "data"
   ]
  },
  {
   "cell_type": "code",
   "execution_count": 107,
   "id": "3065579c",
   "metadata": {},
   "outputs": [
    {
     "data": {
      "text/plain": [
       "0.6766"
      ]
     },
     "execution_count": 107,
     "metadata": {},
     "output_type": "execute_result"
    }
   ],
   "source": [
    "issues = data < p_corrupted\n",
    "(issues.sum(axis = 1)== 0).mean()\n",
    "\n",
    "# 67.7%"
   ]
  },
  {
   "cell_type": "code",
   "execution_count": 184,
   "id": "4eb10d7f",
   "metadata": {},
   "outputs": [
    {
     "data": {
      "text/plain": [
       "array([[0, 0, 0, ..., 0, 0, 0],\n",
       "       [0, 0, 0, ..., 0, 0, 0],\n",
       "       [0, 0, 0, ..., 0, 0, 0],\n",
       "       ...,\n",
       "       [0, 0, 0, ..., 0, 0, 0],\n",
       "       [0, 0, 0, ..., 0, 0, 0],\n",
       "       [0, 0, 0, ..., 0, 0, 0]])"
      ]
     },
     "execution_count": 184,
     "metadata": {},
     "output_type": "execute_result"
    }
   ],
   "source": [
    "# Using np.random.choice\n",
    "\n",
    "p_corrupted = 1/250\n",
    "nstudents = 100\n",
    "n_trails = 10_000\n",
    "data = np.random.random(size = (n_trails, nstudents))\n",
    "data\n",
    "dt = np.random.choice([0,1],p=[0.996, 0.004], size = (n_trails, nstudents))\n",
    "dt"
   ]
  },
  {
   "cell_type": "code",
   "execution_count": 185,
   "id": "c73157b4",
   "metadata": {},
   "outputs": [
    {
     "data": {
      "text/plain": [
       "0.3808"
      ]
     },
     "execution_count": 185,
     "metadata": {},
     "output_type": "execute_result"
    }
   ],
   "source": [
    "noissues = dt.sum(axis=1).mean()\n",
    "noissues\n",
    "\n",
    "# 38.1%"
   ]
  },
  {
   "cell_type": "markdown",
   "id": "90a26a6d",
   "metadata": {},
   "source": [
    "#### b. What is the probability that we observe an installation issue within the first 150 students that download anaconda?"
   ]
  },
  {
   "cell_type": "code",
   "execution_count": 108,
   "id": "84f5d878",
   "metadata": {},
   "outputs": [
    {
     "data": {
      "text/plain": [
       "array([[0.93038167, 0.15846334, 0.61708632, ..., 0.36255069, 0.11543737,\n",
       "        0.83195431],\n",
       "       [0.12972672, 0.58263847, 0.35937911, ..., 0.13065545, 0.92202627,\n",
       "        0.08207998],\n",
       "       [0.59843228, 0.74348594, 0.3979209 , ..., 0.00490505, 0.76760772,\n",
       "        0.12509687],\n",
       "       ...,\n",
       "       [0.21882023, 0.3893025 , 0.02309949, ..., 0.16291545, 0.59537997,\n",
       "        0.8379657 ],\n",
       "       [0.77373964, 0.08945353, 0.71278706, ..., 0.63204928, 0.16861988,\n",
       "        0.61150782],\n",
       "       [0.85430375, 0.85974638, 0.23243823, ..., 0.70396908, 0.81028371,\n",
       "        0.6448604 ]])"
      ]
     },
     "execution_count": 108,
     "metadata": {},
     "output_type": "execute_result"
    }
   ],
   "source": [
    "p_corrupted = 1/250\n",
    "nstudents = 150\n",
    "n_trails = 10_000\n",
    "data = np.random.random(size = (n_trails, nstudents))\n",
    "data"
   ]
  },
  {
   "cell_type": "code",
   "execution_count": 109,
   "id": "81fe5577",
   "metadata": {},
   "outputs": [
    {
     "data": {
      "text/plain": [
       "1.0"
      ]
     },
     "execution_count": 109,
     "metadata": {},
     "output_type": "execute_result"
    }
   ],
   "source": [
    "issues = data >= p_corrupted\n",
    "(issues.sum(axis = 1)>=1).mean()\n",
    "\n",
    "# 100%"
   ]
  },
  {
   "cell_type": "markdown",
   "id": "f8761fc2",
   "metadata": {},
   "source": [
    "#### c. How likely is it that 450 students all download anaconda without an issue?"
   ]
  },
  {
   "cell_type": "code",
   "execution_count": 110,
   "id": "a80c669e",
   "metadata": {},
   "outputs": [
    {
     "data": {
      "text/plain": [
       "array([[0.3967653 , 0.78766487, 0.78921138, ..., 0.68036229, 0.04752164,\n",
       "        0.218887  ],\n",
       "       [0.57108059, 0.88779292, 0.80899   , ..., 0.38844469, 0.80462944,\n",
       "        0.87615536],\n",
       "       [0.94018567, 0.50810289, 0.0938258 , ..., 0.51215016, 0.75663446,\n",
       "        0.99286474],\n",
       "       ...,\n",
       "       [0.90809166, 0.83384771, 0.8992812 , ..., 0.03055744, 0.22826676,\n",
       "        0.7896096 ],\n",
       "       [0.66140644, 0.84302988, 0.96639877, ..., 0.10237856, 0.85747097,\n",
       "        0.6603968 ],\n",
       "       [0.73805491, 0.19241195, 0.6297689 , ..., 0.07667931, 0.70743724,\n",
       "        0.24588701]])"
      ]
     },
     "execution_count": 110,
     "metadata": {},
     "output_type": "execute_result"
    }
   ],
   "source": [
    "p_corrupted = 1/250\n",
    "nstudents = 450\n",
    "n_trails = 10_000\n",
    "data = np.random.random(size = (n_trails, nstudents))\n",
    "data"
   ]
  },
  {
   "cell_type": "code",
   "execution_count": 111,
   "id": "7ffe57d9",
   "metadata": {},
   "outputs": [
    {
     "data": {
      "text/plain": [
       "0.1658"
      ]
     },
     "execution_count": 111,
     "metadata": {},
     "output_type": "execute_result"
    }
   ],
   "source": [
    "issues = data < p_corrupted\n",
    "(issues.sum(axis = 1)==0).mean()\n",
    "\n",
    "# 16.6%"
   ]
  },
  {
   "cell_type": "markdown",
   "id": "d4fe97db",
   "metadata": {},
   "source": [
    "## 7. There's a 70% chance on any given day that there will be at least one food truck at Travis Park.\n",
    "#### However, you haven't seen a food truck there in 3 days. How unlikely is this?"
   ]
  },
  {
   "cell_type": "code",
   "execution_count": 115,
   "id": "636a51ca",
   "metadata": {},
   "outputs": [
    {
     "data": {
      "text/plain": [
       "array([[0.22644686, 0.07579093, 0.92674171],\n",
       "       [0.66291615, 0.66972004, 0.82499957],\n",
       "       [0.12931396, 0.56434311, 0.65205153],\n",
       "       ...,\n",
       "       [0.76517611, 0.42670576, 0.42444335],\n",
       "       [0.43657874, 0.59982208, 0.30085228],\n",
       "       [0.77265997, 0.10174265, 0.2098241 ]])"
      ]
     },
     "execution_count": 115,
     "metadata": {},
     "output_type": "execute_result"
    }
   ],
   "source": [
    "p_food = 0.7\n",
    "data = np.random.random(size = (10_000, 3))\n",
    "data"
   ]
  },
  {
   "cell_type": "code",
   "execution_count": 117,
   "id": "dabb0e46",
   "metadata": {},
   "outputs": [
    {
     "data": {
      "text/plain": [
       "array([[ True,  True, False],\n",
       "       [ True,  True, False],\n",
       "       [ True,  True,  True],\n",
       "       ...,\n",
       "       [False,  True,  True],\n",
       "       [ True,  True,  True],\n",
       "       [False,  True,  True]])"
      ]
     },
     "execution_count": 117,
     "metadata": {},
     "output_type": "execute_result"
    }
   ],
   "source": [
    "nofood = data<p_food\n",
    "nofood"
   ]
  },
  {
   "cell_type": "code",
   "execution_count": 118,
   "id": "7859778c",
   "metadata": {},
   "outputs": [
    {
     "data": {
      "text/plain": [
       "0.3421"
      ]
     },
     "execution_count": 118,
     "metadata": {},
     "output_type": "execute_result"
    }
   ],
   "source": [
    "(nofood.sum(axis=1)==3).mean()\n",
    "\n",
    "# 34.2%"
   ]
  },
  {
   "cell_type": "markdown",
   "id": "71efc3e3",
   "metadata": {},
   "source": [
    "#### How likely is it that a food truck will show up sometime this week?"
   ]
  },
  {
   "cell_type": "code",
   "execution_count": 119,
   "id": "257af992",
   "metadata": {},
   "outputs": [],
   "source": [
    "data = np.random.random(size = (10_000, 5))"
   ]
  },
  {
   "cell_type": "code",
   "execution_count": 122,
   "id": "5aebce76",
   "metadata": {},
   "outputs": [
    {
     "data": {
      "text/plain": [
       "0.8304"
      ]
     },
     "execution_count": 122,
     "metadata": {},
     "output_type": "execute_result"
    }
   ],
   "source": [
    "foodhere = data > p_food\n",
    "(foodhere.sum(axis=1)>=1).mean()\n",
    "\n",
    "# 83%"
   ]
  },
  {
   "cell_type": "markdown",
   "id": "3dc4f35a",
   "metadata": {},
   "source": [
    "## 8. If 23 people are in the same room, what are the odds that two of them share a birthday? "
   ]
  },
  {
   "cell_type": "code",
   "execution_count": 158,
   "id": "ed63faa5",
   "metadata": {},
   "outputs": [
    {
     "data": {
      "text/plain": [
       "array([[210,  37, 228, ..., 226, 251,  70],\n",
       "       [159, 164, 199, ..., 204, 130, 308],\n",
       "       [108,  55, 293, ..., 212,  28, 355],\n",
       "       ...,\n",
       "       [ 53, 169, 222, ..., 102, 313, 312],\n",
       "       [226, 334,  97, ..., 294, 341, 124],\n",
       "       [240, 333, 244, ..., 150,  65, 267]], dtype=int32)"
      ]
     },
     "execution_count": 158,
     "metadata": {},
     "output_type": "execute_result"
    }
   ],
   "source": [
    "people = np.random.uniform(1, 366, size = (10_000, 23)).astype(np.int32)\n",
    "people"
   ]
  },
  {
   "cell_type": "code",
   "execution_count": 162,
   "id": "d4b34c0b",
   "metadata": {},
   "outputs": [
    {
     "data": {
      "text/html": [
       "<div>\n",
       "<style scoped>\n",
       "    .dataframe tbody tr th:only-of-type {\n",
       "        vertical-align: middle;\n",
       "    }\n",
       "\n",
       "    .dataframe tbody tr th {\n",
       "        vertical-align: top;\n",
       "    }\n",
       "\n",
       "    .dataframe thead th {\n",
       "        text-align: right;\n",
       "    }\n",
       "</style>\n",
       "<table border=\"1\" class=\"dataframe\">\n",
       "  <thead>\n",
       "    <tr style=\"text-align: right;\">\n",
       "      <th></th>\n",
       "      <th>0</th>\n",
       "      <th>1</th>\n",
       "      <th>2</th>\n",
       "      <th>3</th>\n",
       "      <th>4</th>\n",
       "      <th>5</th>\n",
       "      <th>6</th>\n",
       "      <th>7</th>\n",
       "      <th>8</th>\n",
       "      <th>9</th>\n",
       "      <th>...</th>\n",
       "      <th>13</th>\n",
       "      <th>14</th>\n",
       "      <th>15</th>\n",
       "      <th>16</th>\n",
       "      <th>17</th>\n",
       "      <th>18</th>\n",
       "      <th>19</th>\n",
       "      <th>20</th>\n",
       "      <th>21</th>\n",
       "      <th>22</th>\n",
       "    </tr>\n",
       "  </thead>\n",
       "  <tbody>\n",
       "    <tr>\n",
       "      <th>0</th>\n",
       "      <td>210</td>\n",
       "      <td>37</td>\n",
       "      <td>228</td>\n",
       "      <td>99</td>\n",
       "      <td>207</td>\n",
       "      <td>67</td>\n",
       "      <td>185</td>\n",
       "      <td>103</td>\n",
       "      <td>165</td>\n",
       "      <td>136</td>\n",
       "      <td>...</td>\n",
       "      <td>271</td>\n",
       "      <td>174</td>\n",
       "      <td>76</td>\n",
       "      <td>50</td>\n",
       "      <td>184</td>\n",
       "      <td>231</td>\n",
       "      <td>317</td>\n",
       "      <td>226</td>\n",
       "      <td>251</td>\n",
       "      <td>70</td>\n",
       "    </tr>\n",
       "    <tr>\n",
       "      <th>1</th>\n",
       "      <td>159</td>\n",
       "      <td>164</td>\n",
       "      <td>199</td>\n",
       "      <td>19</td>\n",
       "      <td>348</td>\n",
       "      <td>233</td>\n",
       "      <td>73</td>\n",
       "      <td>316</td>\n",
       "      <td>317</td>\n",
       "      <td>264</td>\n",
       "      <td>...</td>\n",
       "      <td>212</td>\n",
       "      <td>305</td>\n",
       "      <td>111</td>\n",
       "      <td>216</td>\n",
       "      <td>361</td>\n",
       "      <td>128</td>\n",
       "      <td>89</td>\n",
       "      <td>204</td>\n",
       "      <td>130</td>\n",
       "      <td>308</td>\n",
       "    </tr>\n",
       "    <tr>\n",
       "      <th>2</th>\n",
       "      <td>108</td>\n",
       "      <td>55</td>\n",
       "      <td>293</td>\n",
       "      <td>312</td>\n",
       "      <td>351</td>\n",
       "      <td>160</td>\n",
       "      <td>273</td>\n",
       "      <td>230</td>\n",
       "      <td>255</td>\n",
       "      <td>294</td>\n",
       "      <td>...</td>\n",
       "      <td>35</td>\n",
       "      <td>67</td>\n",
       "      <td>155</td>\n",
       "      <td>168</td>\n",
       "      <td>177</td>\n",
       "      <td>3</td>\n",
       "      <td>290</td>\n",
       "      <td>212</td>\n",
       "      <td>28</td>\n",
       "      <td>355</td>\n",
       "    </tr>\n",
       "    <tr>\n",
       "      <th>3</th>\n",
       "      <td>314</td>\n",
       "      <td>354</td>\n",
       "      <td>251</td>\n",
       "      <td>212</td>\n",
       "      <td>58</td>\n",
       "      <td>202</td>\n",
       "      <td>57</td>\n",
       "      <td>149</td>\n",
       "      <td>36</td>\n",
       "      <td>208</td>\n",
       "      <td>...</td>\n",
       "      <td>305</td>\n",
       "      <td>168</td>\n",
       "      <td>311</td>\n",
       "      <td>313</td>\n",
       "      <td>214</td>\n",
       "      <td>224</td>\n",
       "      <td>352</td>\n",
       "      <td>154</td>\n",
       "      <td>73</td>\n",
       "      <td>358</td>\n",
       "    </tr>\n",
       "    <tr>\n",
       "      <th>4</th>\n",
       "      <td>355</td>\n",
       "      <td>277</td>\n",
       "      <td>101</td>\n",
       "      <td>192</td>\n",
       "      <td>292</td>\n",
       "      <td>117</td>\n",
       "      <td>281</td>\n",
       "      <td>28</td>\n",
       "      <td>64</td>\n",
       "      <td>252</td>\n",
       "      <td>...</td>\n",
       "      <td>129</td>\n",
       "      <td>58</td>\n",
       "      <td>17</td>\n",
       "      <td>356</td>\n",
       "      <td>187</td>\n",
       "      <td>58</td>\n",
       "      <td>146</td>\n",
       "      <td>179</td>\n",
       "      <td>114</td>\n",
       "      <td>36</td>\n",
       "    </tr>\n",
       "    <tr>\n",
       "      <th>...</th>\n",
       "      <td>...</td>\n",
       "      <td>...</td>\n",
       "      <td>...</td>\n",
       "      <td>...</td>\n",
       "      <td>...</td>\n",
       "      <td>...</td>\n",
       "      <td>...</td>\n",
       "      <td>...</td>\n",
       "      <td>...</td>\n",
       "      <td>...</td>\n",
       "      <td>...</td>\n",
       "      <td>...</td>\n",
       "      <td>...</td>\n",
       "      <td>...</td>\n",
       "      <td>...</td>\n",
       "      <td>...</td>\n",
       "      <td>...</td>\n",
       "      <td>...</td>\n",
       "      <td>...</td>\n",
       "      <td>...</td>\n",
       "      <td>...</td>\n",
       "    </tr>\n",
       "    <tr>\n",
       "      <th>9995</th>\n",
       "      <td>9</td>\n",
       "      <td>96</td>\n",
       "      <td>221</td>\n",
       "      <td>224</td>\n",
       "      <td>38</td>\n",
       "      <td>198</td>\n",
       "      <td>206</td>\n",
       "      <td>276</td>\n",
       "      <td>162</td>\n",
       "      <td>293</td>\n",
       "      <td>...</td>\n",
       "      <td>316</td>\n",
       "      <td>224</td>\n",
       "      <td>155</td>\n",
       "      <td>303</td>\n",
       "      <td>97</td>\n",
       "      <td>295</td>\n",
       "      <td>35</td>\n",
       "      <td>57</td>\n",
       "      <td>329</td>\n",
       "      <td>76</td>\n",
       "    </tr>\n",
       "    <tr>\n",
       "      <th>9996</th>\n",
       "      <td>175</td>\n",
       "      <td>289</td>\n",
       "      <td>310</td>\n",
       "      <td>101</td>\n",
       "      <td>52</td>\n",
       "      <td>186</td>\n",
       "      <td>327</td>\n",
       "      <td>301</td>\n",
       "      <td>305</td>\n",
       "      <td>217</td>\n",
       "      <td>...</td>\n",
       "      <td>258</td>\n",
       "      <td>165</td>\n",
       "      <td>50</td>\n",
       "      <td>269</td>\n",
       "      <td>196</td>\n",
       "      <td>293</td>\n",
       "      <td>340</td>\n",
       "      <td>240</td>\n",
       "      <td>132</td>\n",
       "      <td>61</td>\n",
       "    </tr>\n",
       "    <tr>\n",
       "      <th>9997</th>\n",
       "      <td>53</td>\n",
       "      <td>169</td>\n",
       "      <td>222</td>\n",
       "      <td>272</td>\n",
       "      <td>338</td>\n",
       "      <td>39</td>\n",
       "      <td>205</td>\n",
       "      <td>279</td>\n",
       "      <td>209</td>\n",
       "      <td>234</td>\n",
       "      <td>...</td>\n",
       "      <td>162</td>\n",
       "      <td>24</td>\n",
       "      <td>182</td>\n",
       "      <td>92</td>\n",
       "      <td>138</td>\n",
       "      <td>205</td>\n",
       "      <td>257</td>\n",
       "      <td>102</td>\n",
       "      <td>313</td>\n",
       "      <td>312</td>\n",
       "    </tr>\n",
       "    <tr>\n",
       "      <th>9998</th>\n",
       "      <td>226</td>\n",
       "      <td>334</td>\n",
       "      <td>97</td>\n",
       "      <td>95</td>\n",
       "      <td>157</td>\n",
       "      <td>324</td>\n",
       "      <td>217</td>\n",
       "      <td>131</td>\n",
       "      <td>336</td>\n",
       "      <td>135</td>\n",
       "      <td>...</td>\n",
       "      <td>315</td>\n",
       "      <td>196</td>\n",
       "      <td>33</td>\n",
       "      <td>242</td>\n",
       "      <td>259</td>\n",
       "      <td>234</td>\n",
       "      <td>298</td>\n",
       "      <td>294</td>\n",
       "      <td>341</td>\n",
       "      <td>124</td>\n",
       "    </tr>\n",
       "    <tr>\n",
       "      <th>9999</th>\n",
       "      <td>240</td>\n",
       "      <td>333</td>\n",
       "      <td>244</td>\n",
       "      <td>354</td>\n",
       "      <td>332</td>\n",
       "      <td>219</td>\n",
       "      <td>144</td>\n",
       "      <td>60</td>\n",
       "      <td>306</td>\n",
       "      <td>123</td>\n",
       "      <td>...</td>\n",
       "      <td>279</td>\n",
       "      <td>108</td>\n",
       "      <td>305</td>\n",
       "      <td>141</td>\n",
       "      <td>61</td>\n",
       "      <td>39</td>\n",
       "      <td>296</td>\n",
       "      <td>150</td>\n",
       "      <td>65</td>\n",
       "      <td>267</td>\n",
       "    </tr>\n",
       "  </tbody>\n",
       "</table>\n",
       "<p>10000 rows × 23 columns</p>\n",
       "</div>"
      ],
      "text/plain": [
       "       0    1    2    3    4    5    6    7    8    9   ...   13   14   15  \\\n",
       "0     210   37  228   99  207   67  185  103  165  136  ...  271  174   76   \n",
       "1     159  164  199   19  348  233   73  316  317  264  ...  212  305  111   \n",
       "2     108   55  293  312  351  160  273  230  255  294  ...   35   67  155   \n",
       "3     314  354  251  212   58  202   57  149   36  208  ...  305  168  311   \n",
       "4     355  277  101  192  292  117  281   28   64  252  ...  129   58   17   \n",
       "...   ...  ...  ...  ...  ...  ...  ...  ...  ...  ...  ...  ...  ...  ...   \n",
       "9995    9   96  221  224   38  198  206  276  162  293  ...  316  224  155   \n",
       "9996  175  289  310  101   52  186  327  301  305  217  ...  258  165   50   \n",
       "9997   53  169  222  272  338   39  205  279  209  234  ...  162   24  182   \n",
       "9998  226  334   97   95  157  324  217  131  336  135  ...  315  196   33   \n",
       "9999  240  333  244  354  332  219  144   60  306  123  ...  279  108  305   \n",
       "\n",
       "       16   17   18   19   20   21   22  \n",
       "0      50  184  231  317  226  251   70  \n",
       "1     216  361  128   89  204  130  308  \n",
       "2     168  177    3  290  212   28  355  \n",
       "3     313  214  224  352  154   73  358  \n",
       "4     356  187   58  146  179  114   36  \n",
       "...   ...  ...  ...  ...  ...  ...  ...  \n",
       "9995  303   97  295   35   57  329   76  \n",
       "9996  269  196  293  340  240  132   61  \n",
       "9997   92  138  205  257  102  313  312  \n",
       "9998  242  259  234  298  294  341  124  \n",
       "9999  141   61   39  296  150   65  267  \n",
       "\n",
       "[10000 rows x 23 columns]"
      ]
     },
     "execution_count": 162,
     "metadata": {},
     "output_type": "execute_result"
    }
   ],
   "source": [
    "newppl=pd.DataFrame(people)\n",
    "newppl"
   ]
  },
  {
   "cell_type": "code",
   "execution_count": 164,
   "id": "73c7e5f6",
   "metadata": {},
   "outputs": [
    {
     "data": {
      "text/plain": [
       "0       23\n",
       "1       23\n",
       "2       23\n",
       "3       23\n",
       "4       22\n",
       "        ..\n",
       "9995    22\n",
       "9996    23\n",
       "9997    22\n",
       "9998    23\n",
       "9999    23\n",
       "Length: 10000, dtype: int64"
      ]
     },
     "execution_count": 164,
     "metadata": {},
     "output_type": "execute_result"
    }
   ],
   "source": [
    "newppl=pd.DataFrame(people).nunique(axis=1)\n",
    "newppl"
   ]
  },
  {
   "cell_type": "code",
   "execution_count": 145,
   "id": "dce4b9c8",
   "metadata": {},
   "outputs": [],
   "source": [
    "def contains_duplicates(X):\n",
    "    seen = set()\n",
    "    seen_add = seen.add\n",
    "    for x in X:\n",
    "        if (x in seen or seen_add(x)):\n",
    "            return True\n",
    "    return False"
   ]
  },
  {
   "cell_type": "code",
   "execution_count": 151,
   "id": "21376e06",
   "metadata": {},
   "outputs": [
    {
     "data": {
      "text/plain": [
       "0        True\n",
       "1        True\n",
       "2        True\n",
       "3       False\n",
       "4       False\n",
       "        ...  \n",
       "9995     True\n",
       "9996    False\n",
       "9997     True\n",
       "9998     True\n",
       "9999     True\n",
       "Length: 10000, dtype: bool"
      ]
     },
     "execution_count": 151,
     "metadata": {},
     "output_type": "execute_result"
    }
   ],
   "source": [
    "sharebd = pd.DataFrame(people).apply(contains_duplicates, axis = 1)\n",
    "sharebd"
   ]
  },
  {
   "cell_type": "code",
   "execution_count": 154,
   "id": "9ea0d4ca",
   "metadata": {},
   "outputs": [
    {
     "data": {
      "text/plain": [
       "0.5021"
      ]
     },
     "execution_count": 154,
     "metadata": {},
     "output_type": "execute_result"
    }
   ],
   "source": [
    "(sharebd.sum()).mean()/10000\n",
    "\n",
    "# 50.2%"
   ]
  },
  {
   "cell_type": "markdown",
   "id": "4542d633",
   "metadata": {},
   "source": [
    "#### What if it's 20 people?"
   ]
  },
  {
   "cell_type": "code",
   "execution_count": 155,
   "id": "64c8070d",
   "metadata": {},
   "outputs": [
    {
     "data": {
      "text/plain": [
       "0.4111"
      ]
     },
     "execution_count": 155,
     "metadata": {},
     "output_type": "execute_result"
    }
   ],
   "source": [
    "people = np.random.uniform(0, 366, size = (10_000, 20)).astype(np.int32)\n",
    "sharebd = pd.DataFrame(people).apply(contains_duplicates, axis = 1)\n",
    "(sharebd.sum()).mean()/10000\n",
    "\n",
    "# 41%"
   ]
  },
  {
   "cell_type": "markdown",
   "id": "0d710611",
   "metadata": {},
   "source": [
    "#### 40?"
   ]
  },
  {
   "cell_type": "code",
   "execution_count": 156,
   "id": "79ca87a3",
   "metadata": {},
   "outputs": [
    {
     "data": {
      "text/plain": [
       "0.8889"
      ]
     },
     "execution_count": 156,
     "metadata": {},
     "output_type": "execute_result"
    }
   ],
   "source": [
    "people = np.random.uniform(0, 366, size = (10_000, 40)).astype(np.int32)\n",
    "sharebd = pd.DataFrame(people).apply(contains_duplicates, axis = 1)\n",
    "(sharebd.sum()).mean()/10000"
   ]
  }
 ],
 "metadata": {
  "kernelspec": {
   "display_name": "Python 3 (ipykernel)",
   "language": "python",
   "name": "python3"
  },
  "language_info": {
   "codemirror_mode": {
    "name": "ipython",
    "version": 3
   },
   "file_extension": ".py",
   "mimetype": "text/x-python",
   "name": "python",
   "nbconvert_exporter": "python",
   "pygments_lexer": "ipython3",
   "version": "3.9.12"
  }
 },
 "nbformat": 4,
 "nbformat_minor": 5
}
